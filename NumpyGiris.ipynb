{
 "cells": [
  {
   "cell_type": "code",
   "execution_count": 1,
   "id": "7c417cff-ea29-430e-a452-4b181f9e7f61",
   "metadata": {},
   "outputs": [],
   "source": [
    "import numpy as np \n"
   ]
  },
  {
   "cell_type": "markdown",
   "id": "253857bd-412d-41de-95c7-df0416c7b2f7",
   "metadata": {},
   "source": [
    "## numpy array \n"
   ]
  },
  {
   "cell_type": "code",
   "execution_count": 2,
   "id": "16bcce85-9a50-4578-bb2d-af92820e6f87",
   "metadata": {},
   "outputs": [],
   "source": [
    "myList = [20, 30, 49]"
   ]
  },
  {
   "cell_type": "code",
   "execution_count": 3,
   "id": "52ca7027-136c-4c82-8d19-99bbf99908dd",
   "metadata": {},
   "outputs": [
    {
     "data": {
      "text/plain": [
       "list"
      ]
     },
     "execution_count": 3,
     "metadata": {},
     "output_type": "execute_result"
    }
   ],
   "source": [
    "type(myList)"
   ]
  },
  {
   "cell_type": "code",
   "execution_count": 4,
   "id": "713ea24b-3e9c-4036-af89-848b7b9815a0",
   "metadata": {},
   "outputs": [
    {
     "data": {
      "text/plain": [
       "array([20, 30, 49])"
      ]
     },
     "execution_count": 4,
     "metadata": {},
     "output_type": "execute_result"
    }
   ],
   "source": [
    "np.array(myList)"
   ]
  },
  {
   "cell_type": "code",
   "execution_count": 7,
   "id": "192915f5-6be0-4987-8e7c-857c940b96b9",
   "metadata": {},
   "outputs": [
    {
     "data": {
      "text/plain": [
       "numpy.ndarray"
      ]
     },
     "execution_count": 7,
     "metadata": {},
     "output_type": "execute_result"
    }
   ],
   "source": [
    "type(np.array(myList))"
   ]
  },
  {
   "cell_type": "code",
   "execution_count": 8,
   "id": "de44ef52-01ce-479c-bd2b-d312adc99ff1",
   "metadata": {},
   "outputs": [],
   "source": [
    "matrixList = [[10, 20, 30], [20, 30, 40], [30, 40, 50]]"
   ]
  },
  {
   "cell_type": "code",
   "execution_count": 9,
   "id": "cf1d7a18-c460-471d-b7a8-00c585782052",
   "metadata": {},
   "outputs": [
    {
     "data": {
      "text/plain": [
       "20"
      ]
     },
     "execution_count": 9,
     "metadata": {},
     "output_type": "execute_result"
    }
   ],
   "source": [
    "matrixList[1][0]"
   ]
  },
  {
   "cell_type": "code",
   "execution_count": 10,
   "id": "0b66e5e4-2860-4af4-9947-c898a7ff2902",
   "metadata": {},
   "outputs": [
    {
     "data": {
      "text/plain": [
       "array([[10, 20, 30],\n",
       "       [20, 30, 40],\n",
       "       [30, 40, 50]])"
      ]
     },
     "execution_count": 10,
     "metadata": {},
     "output_type": "execute_result"
    }
   ],
   "source": [
    "np.array(matrixList)"
   ]
  },
  {
   "cell_type": "markdown",
   "id": "99fafd93-6c0d-4182-a52b-c980075113fb",
   "metadata": {},
   "source": [
    "## arange"
   ]
  },
  {
   "cell_type": "code",
   "execution_count": 11,
   "id": "626df20e-3ff6-4915-88cc-f1cf30caa2f4",
   "metadata": {},
   "outputs": [
    {
     "data": {
      "text/plain": [
       "[0, 1, 2, 3, 4, 5, 6, 7, 8, 9]"
      ]
     },
     "execution_count": 11,
     "metadata": {},
     "output_type": "execute_result"
    }
   ],
   "source": [
    "list(range(0,10))"
   ]
  },
  {
   "cell_type": "code",
   "execution_count": 12,
   "id": "4826f0f6-7b31-4119-bf38-4a6578eb3ecc",
   "metadata": {},
   "outputs": [
    {
     "data": {
      "text/plain": [
       "array([0, 1, 2, 3, 4, 5, 6, 7, 8, 9])"
      ]
     },
     "execution_count": 12,
     "metadata": {},
     "output_type": "execute_result"
    }
   ],
   "source": [
    "np.arange(0,10)"
   ]
  },
  {
   "cell_type": "code",
   "execution_count": 13,
   "id": "484ba4ac-caa1-42e2-847f-1fc3ae7313b5",
   "metadata": {},
   "outputs": [
    {
     "data": {
      "text/plain": [
       "array([0, 2, 4, 6, 8])"
      ]
     },
     "execution_count": 13,
     "metadata": {},
     "output_type": "execute_result"
    }
   ],
   "source": [
    "np.arange(0, 10, 2)"
   ]
  },
  {
   "cell_type": "markdown",
   "id": "7028a33f-126c-4072-805f-1474cb08866c",
   "metadata": {},
   "source": [
    "## zeros"
   ]
  },
  {
   "cell_type": "code",
   "execution_count": 14,
   "id": "264761ac-2b27-408c-aed5-c1dfc7fbe33d",
   "metadata": {},
   "outputs": [
    {
     "data": {
      "text/plain": [
       "array([0., 0., 0., 0., 0.])"
      ]
     },
     "execution_count": 14,
     "metadata": {},
     "output_type": "execute_result"
    }
   ],
   "source": [
    "np.zeros(5)"
   ]
  },
  {
   "cell_type": "code",
   "execution_count": 15,
   "id": "1c2835bc-5f03-4e48-9d5b-8d48ffa7d5bf",
   "metadata": {},
   "outputs": [
    {
     "data": {
      "text/plain": [
       "array([[0., 0.],\n",
       "       [0., 0.]])"
      ]
     },
     "execution_count": 15,
     "metadata": {},
     "output_type": "execute_result"
    }
   ],
   "source": [
    "np.zeros((2,2))"
   ]
  },
  {
   "cell_type": "markdown",
   "id": "3a2eed6d-387d-4d6e-8800-ae3396c49df0",
   "metadata": {},
   "source": [
    "## ones"
   ]
  },
  {
   "cell_type": "code",
   "execution_count": 16,
   "id": "f550924b-e019-40d0-9794-5bbf45470913",
   "metadata": {},
   "outputs": [
    {
     "data": {
      "text/plain": [
       "array([1., 1., 1., 1., 1.])"
      ]
     },
     "execution_count": 16,
     "metadata": {},
     "output_type": "execute_result"
    }
   ],
   "source": [
    "np.ones(5)"
   ]
  },
  {
   "cell_type": "code",
   "execution_count": 17,
   "id": "e89058f7-f386-4d35-bcd3-360c62228fdd",
   "metadata": {},
   "outputs": [
    {
     "data": {
      "text/plain": [
       "array([[1., 1., 1., 1., 1.],\n",
       "       [1., 1., 1., 1., 1.],\n",
       "       [1., 1., 1., 1., 1.],\n",
       "       [1., 1., 1., 1., 1.],\n",
       "       [1., 1., 1., 1., 1.]])"
      ]
     },
     "execution_count": 17,
     "metadata": {},
     "output_type": "execute_result"
    }
   ],
   "source": [
    "np.ones((5,5))"
   ]
  },
  {
   "cell_type": "markdown",
   "id": "61801ff3-43b8-40fe-8e68-8186070a0c0d",
   "metadata": {},
   "source": [
    "## linspace"
   ]
  },
  {
   "cell_type": "code",
   "execution_count": 18,
   "id": "b32497f7-24ef-4425-be87-2b12cc3c9d05",
   "metadata": {},
   "outputs": [
    {
     "data": {
      "text/plain": [
       "array([ 0.,  5., 10., 15., 20.])"
      ]
     },
     "execution_count": 18,
     "metadata": {},
     "output_type": "execute_result"
    }
   ],
   "source": [
    "np.linspace(0, 20, 5)"
   ]
  },
  {
   "cell_type": "markdown",
   "id": "bbfb2f2b-727e-4196-8d65-8464259d96fc",
   "metadata": {},
   "source": [
    "0'dan 20 ye 5 eşit aralığa böl. stop index dahil"
   ]
  },
  {
   "cell_type": "code",
   "execution_count": 21,
   "id": "08b7fae5-da3e-4eb4-a5c9-13b00031e925",
   "metadata": {},
   "outputs": [
    {
     "data": {
      "text/plain": [
       "array([ 0.        ,  0.52631579,  1.05263158,  1.57894737,  2.10526316,\n",
       "        2.63157895,  3.15789474,  3.68421053,  4.21052632,  4.73684211,\n",
       "        5.26315789,  5.78947368,  6.31578947,  6.84210526,  7.36842105,\n",
       "        7.89473684,  8.42105263,  8.94736842,  9.47368421, 10.        ])"
      ]
     },
     "execution_count": 21,
     "metadata": {},
     "output_type": "execute_result"
    }
   ],
   "source": [
    "np.linspace(0, 10, 20)"
   ]
  },
  {
   "cell_type": "markdown",
   "id": "bb4122af-2acc-489b-9c50-53bd8c95f45b",
   "metadata": {},
   "source": [
    "## eye"
   ]
  },
  {
   "cell_type": "code",
   "execution_count": 22,
   "id": "963c986a-48eb-4696-b162-f33555f140dd",
   "metadata": {},
   "outputs": [
    {
     "data": {
      "text/plain": [
       "array([[1., 0., 0.],\n",
       "       [0., 1., 0.],\n",
       "       [0., 0., 1.]])"
      ]
     },
     "execution_count": 22,
     "metadata": {},
     "output_type": "execute_result"
    }
   ],
   "source": [
    "np.eye(3)"
   ]
  },
  {
   "cell_type": "markdown",
   "id": "c866bdba-bfa8-4f57-bc8d-ed0b7d82226a",
   "metadata": {},
   "source": [
    "## random\n"
   ]
  },
  {
   "cell_type": "code",
   "execution_count": 25,
   "id": "5d4000ec-03e3-4283-9473-09159fbbdc38",
   "metadata": {},
   "outputs": [
    {
     "data": {
      "text/plain": [
       "array([ 0.12985919, -1.24834878,  1.10625559,  1.39217002])"
      ]
     },
     "execution_count": 25,
     "metadata": {},
     "output_type": "execute_result"
    }
   ],
   "source": [
    "np.random.randn(4)"
   ]
  },
  {
   "cell_type": "code",
   "execution_count": 26,
   "id": "0035a34f-dfe7-481f-b502-7eb863b00d90",
   "metadata": {},
   "outputs": [
    {
     "data": {
      "text/plain": [
       "array([[-1.04115389, -0.88459218,  0.2943614 , -1.14699482],\n",
       "       [-1.47223424, -2.17181553, -0.06364452,  0.31292765],\n",
       "       [-0.17791031, -0.50368129, -1.63449829,  2.13720398],\n",
       "       [ 1.61141059,  0.81657351, -1.09779877, -1.68428349]])"
      ]
     },
     "execution_count": 26,
     "metadata": {},
     "output_type": "execute_result"
    }
   ],
   "source": [
    "np.random.randn(4,4)"
   ]
  },
  {
   "cell_type": "raw",
   "id": "3e8f91dc-87ea-4249-a106-4eab87c3de75",
   "metadata": {},
   "source": [
    "np.random.randint(1, 10)"
   ]
  },
  {
   "cell_type": "markdown",
   "id": "2aef8a56-fd01-4aed-bbbd-a847842026b3",
   "metadata": {},
   "source": [
    "10 dahil değil"
   ]
  },
  {
   "cell_type": "code",
   "execution_count": 34,
   "id": "75305d75-73ac-49d6-bee2-0b21ddcd7a23",
   "metadata": {},
   "outputs": [
    {
     "data": {
      "text/plain": [
       "array([251, 257, 130, 116,  97])"
      ]
     },
     "execution_count": 34,
     "metadata": {},
     "output_type": "execute_result"
    }
   ],
   "source": [
    "np.random.randint(1, 300, 5)"
   ]
  },
  {
   "cell_type": "code",
   "execution_count": 35,
   "id": "434fb0e1-7295-4c0a-8937-ccc18c23506d",
   "metadata": {},
   "outputs": [],
   "source": [
    "myNumpyArray = np.arange(30)"
   ]
  },
  {
   "cell_type": "code",
   "execution_count": 36,
   "id": "4b8f9c86-6b17-4155-9df5-983aac15b8a5",
   "metadata": {},
   "outputs": [
    {
     "data": {
      "text/plain": [
       "array([ 0,  1,  2,  3,  4,  5,  6,  7,  8,  9, 10, 11, 12, 13, 14, 15, 16,\n",
       "       17, 18, 19, 20, 21, 22, 23, 24, 25, 26, 27, 28, 29])"
      ]
     },
     "execution_count": 36,
     "metadata": {},
     "output_type": "execute_result"
    }
   ],
   "source": [
    "myNumpyArray"
   ]
  },
  {
   "cell_type": "markdown",
   "id": "5605e4ac-e9b8-42d2-9371-e5ba2ec9347f",
   "metadata": {},
   "source": [
    " ## numpy array methods"
   ]
  },
  {
   "cell_type": "code",
   "execution_count": 39,
   "id": "b8fc53c8-747d-443a-9616-ee1954077c6d",
   "metadata": {},
   "outputs": [
    {
     "data": {
      "text/plain": [
       "array([[ 0,  1,  2,  3,  4,  5],\n",
       "       [ 6,  7,  8,  9, 10, 11],\n",
       "       [12, 13, 14, 15, 16, 17],\n",
       "       [18, 19, 20, 21, 22, 23],\n",
       "       [24, 25, 26, 27, 28, 29]])"
      ]
     },
     "execution_count": 39,
     "metadata": {},
     "output_type": "execute_result"
    }
   ],
   "source": [
    "myNumpyArray.reshape(5,6)"
   ]
  },
  {
   "cell_type": "code",
   "execution_count": 40,
   "id": "1b17aca7-30dc-4771-a1b7-e9e87946e6be",
   "metadata": {},
   "outputs": [
    {
     "data": {
      "text/plain": [
       "29"
      ]
     },
     "execution_count": 40,
     "metadata": {},
     "output_type": "execute_result"
    }
   ],
   "source": [
    "myNumpyArray.max()"
   ]
  },
  {
   "cell_type": "code",
   "execution_count": 41,
   "id": "570dda4e-e653-4868-8139-03ce9bae5fbe",
   "metadata": {},
   "outputs": [
    {
     "data": {
      "text/plain": [
       "0"
      ]
     },
     "execution_count": 41,
     "metadata": {},
     "output_type": "execute_result"
    }
   ],
   "source": [
    "myNumpyArray.min()"
   ]
  },
  {
   "cell_type": "code",
   "execution_count": 43,
   "id": "b184a304-22b0-4c65-8161-0a9a39f73a3b",
   "metadata": {},
   "outputs": [
    {
     "data": {
      "text/plain": [
       "29"
      ]
     },
     "execution_count": 43,
     "metadata": {},
     "output_type": "execute_result"
    }
   ],
   "source": [
    "myNumpyArray.argmax()"
   ]
  },
  {
   "cell_type": "markdown",
   "id": "9691b928-20e7-4d95-8b78-4e69d9729ed9",
   "metadata": {},
   "source": [
    "kaçıncı indexte"
   ]
  },
  {
   "cell_type": "code",
   "execution_count": 44,
   "id": "4ae1cb75-f112-48e3-b42e-69ad6dd3a119",
   "metadata": {},
   "outputs": [
    {
     "data": {
      "text/plain": [
       "(30,)"
      ]
     },
     "execution_count": 44,
     "metadata": {},
     "output_type": "execute_result"
    }
   ],
   "source": [
    "myNumpyArray.shape"
   ]
  },
  {
   "cell_type": "code",
   "execution_count": null,
   "id": "2aeb6722-2d88-47bc-b1bd-0e7e70b9d6f8",
   "metadata": {},
   "outputs": [],
   "source": []
  }
 ],
 "metadata": {
  "kernelspec": {
   "display_name": "Python 3 (ipykernel)",
   "language": "python",
   "name": "python3"
  },
  "language_info": {
   "codemirror_mode": {
    "name": "ipython",
    "version": 3
   },
   "file_extension": ".py",
   "mimetype": "text/x-python",
   "name": "python",
   "nbconvert_exporter": "python",
   "pygments_lexer": "ipython3",
   "version": "3.12.7"
  }
 },
 "nbformat": 4,
 "nbformat_minor": 5
}
