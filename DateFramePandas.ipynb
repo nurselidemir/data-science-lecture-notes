{
 "cells": [
  {
   "cell_type": "code",
   "execution_count": 1,
   "id": "100fd491-340e-4afa-a335-d62440e451b2",
   "metadata": {},
   "outputs": [],
   "source": [
    "import numpy as np"
   ]
  },
  {
   "cell_type": "code",
   "execution_count": 9,
   "id": "c5427240-6f49-40ee-b2e1-28085c060049",
   "metadata": {},
   "outputs": [],
   "source": [
    "import pandas as pd"
   ]
  },
  {
   "cell_type": "code",
   "execution_count": 10,
   "id": "08c9f2f6-bd41-4c4c-bee7-dc02c7549219",
   "metadata": {},
   "outputs": [],
   "source": [
    "data = np.random.randn(4, 3)"
   ]
  },
  {
   "cell_type": "code",
   "execution_count": 11,
   "id": "23ab1289-fee2-4dc8-9baa-1d5934b0f8f5",
   "metadata": {},
   "outputs": [
    {
     "data": {
      "text/plain": [
       "array([[ 0.03162809, -1.75309224,  0.04691181],\n",
       "       [-1.09910079,  0.03411264,  0.13257483],\n",
       "       [-1.02637013, -0.36964893, -0.57955556],\n",
       "       [-0.54098982,  0.32712727,  0.10873455]])"
      ]
     },
     "execution_count": 11,
     "metadata": {},
     "output_type": "execute_result"
    }
   ],
   "source": [
    "data"
   ]
  },
  {
   "cell_type": "code",
   "execution_count": 12,
   "id": "3e8fa842-a129-43c6-8721-11746b5b44e7",
   "metadata": {},
   "outputs": [],
   "source": [
    "dataFrame = pd.DataFrame(data)"
   ]
  },
  {
   "cell_type": "code",
   "execution_count": 13,
   "id": "89c87925-003d-4833-9575-205ee1f78600",
   "metadata": {},
   "outputs": [
    {
     "data": {
      "text/html": [
       "<div>\n",
       "<style scoped>\n",
       "    .dataframe tbody tr th:only-of-type {\n",
       "        vertical-align: middle;\n",
       "    }\n",
       "\n",
       "    .dataframe tbody tr th {\n",
       "        vertical-align: top;\n",
       "    }\n",
       "\n",
       "    .dataframe thead th {\n",
       "        text-align: right;\n",
       "    }\n",
       "</style>\n",
       "<table border=\"1\" class=\"dataframe\">\n",
       "  <thead>\n",
       "    <tr style=\"text-align: right;\">\n",
       "      <th></th>\n",
       "      <th>0</th>\n",
       "      <th>1</th>\n",
       "      <th>2</th>\n",
       "    </tr>\n",
       "  </thead>\n",
       "  <tbody>\n",
       "    <tr>\n",
       "      <th>0</th>\n",
       "      <td>0.031628</td>\n",
       "      <td>-1.753092</td>\n",
       "      <td>0.046912</td>\n",
       "    </tr>\n",
       "    <tr>\n",
       "      <th>1</th>\n",
       "      <td>-1.099101</td>\n",
       "      <td>0.034113</td>\n",
       "      <td>0.132575</td>\n",
       "    </tr>\n",
       "    <tr>\n",
       "      <th>2</th>\n",
       "      <td>-1.026370</td>\n",
       "      <td>-0.369649</td>\n",
       "      <td>-0.579556</td>\n",
       "    </tr>\n",
       "    <tr>\n",
       "      <th>3</th>\n",
       "      <td>-0.540990</td>\n",
       "      <td>0.327127</td>\n",
       "      <td>0.108735</td>\n",
       "    </tr>\n",
       "  </tbody>\n",
       "</table>\n",
       "</div>"
      ],
      "text/plain": [
       "          0         1         2\n",
       "0  0.031628 -1.753092  0.046912\n",
       "1 -1.099101  0.034113  0.132575\n",
       "2 -1.026370 -0.369649 -0.579556\n",
       "3 -0.540990  0.327127  0.108735"
      ]
     },
     "execution_count": 13,
     "metadata": {},
     "output_type": "execute_result"
    }
   ],
   "source": [
    "dataFrame"
   ]
  },
  {
   "cell_type": "code",
   "execution_count": 14,
   "id": "1628909e-c80d-444c-9ae6-87aae167e004",
   "metadata": {},
   "outputs": [
    {
     "data": {
      "text/plain": [
       "0    0.031628\n",
       "1   -1.099101\n",
       "2   -1.026370\n",
       "3   -0.540990\n",
       "Name: 0, dtype: float64"
      ]
     },
     "execution_count": 14,
     "metadata": {},
     "output_type": "execute_result"
    }
   ],
   "source": [
    "dataFrame[0]"
   ]
  },
  {
   "cell_type": "markdown",
   "id": "99d7f218-27ee-4397-9437-60f362833435",
   "metadata": {},
   "source": [
    "kolon geldi"
   ]
  },
  {
   "cell_type": "code",
   "execution_count": 16,
   "id": "65e4715c-5d83-4d4d-857a-671d1382c9bc",
   "metadata": {},
   "outputs": [],
   "source": [
    "yeniDataFrame = pd.DataFrame(data, index=[\"Nurseli\", \"Zeynep\", \"Mert\", \"İsa\"], columns = [\"Maaş\",\"Yaş\",\"Saat\"])"
   ]
  },
  {
   "cell_type": "code",
   "execution_count": 17,
   "id": "1178e3de-b441-44d7-b698-a997c157065b",
   "metadata": {},
   "outputs": [
    {
     "data": {
      "text/html": [
       "<div>\n",
       "<style scoped>\n",
       "    .dataframe tbody tr th:only-of-type {\n",
       "        vertical-align: middle;\n",
       "    }\n",
       "\n",
       "    .dataframe tbody tr th {\n",
       "        vertical-align: top;\n",
       "    }\n",
       "\n",
       "    .dataframe thead th {\n",
       "        text-align: right;\n",
       "    }\n",
       "</style>\n",
       "<table border=\"1\" class=\"dataframe\">\n",
       "  <thead>\n",
       "    <tr style=\"text-align: right;\">\n",
       "      <th></th>\n",
       "      <th>Maaş</th>\n",
       "      <th>Yaş</th>\n",
       "      <th>Saat</th>\n",
       "    </tr>\n",
       "  </thead>\n",
       "  <tbody>\n",
       "    <tr>\n",
       "      <th>Nurseli</th>\n",
       "      <td>0.031628</td>\n",
       "      <td>-1.753092</td>\n",
       "      <td>0.046912</td>\n",
       "    </tr>\n",
       "    <tr>\n",
       "      <th>Zeynep</th>\n",
       "      <td>-1.099101</td>\n",
       "      <td>0.034113</td>\n",
       "      <td>0.132575</td>\n",
       "    </tr>\n",
       "    <tr>\n",
       "      <th>Mert</th>\n",
       "      <td>-1.026370</td>\n",
       "      <td>-0.369649</td>\n",
       "      <td>-0.579556</td>\n",
       "    </tr>\n",
       "    <tr>\n",
       "      <th>İsa</th>\n",
       "      <td>-0.540990</td>\n",
       "      <td>0.327127</td>\n",
       "      <td>0.108735</td>\n",
       "    </tr>\n",
       "  </tbody>\n",
       "</table>\n",
       "</div>"
      ],
      "text/plain": [
       "             Maaş       Yaş      Saat\n",
       "Nurseli  0.031628 -1.753092  0.046912\n",
       "Zeynep  -1.099101  0.034113  0.132575\n",
       "Mert    -1.026370 -0.369649 -0.579556\n",
       "İsa     -0.540990  0.327127  0.108735"
      ]
     },
     "execution_count": 17,
     "metadata": {},
     "output_type": "execute_result"
    }
   ],
   "source": [
    "yeniDataFrame"
   ]
  },
  {
   "cell_type": "code",
   "execution_count": 18,
   "id": "3faea154-ac6c-4e2e-9126-2d916a3273cb",
   "metadata": {},
   "outputs": [
    {
     "data": {
      "text/plain": [
       "Nurseli   -1.753092\n",
       "Zeynep     0.034113\n",
       "Mert      -0.369649\n",
       "İsa        0.327127\n",
       "Name: Yaş, dtype: float64"
      ]
     },
     "execution_count": 18,
     "metadata": {},
     "output_type": "execute_result"
    }
   ],
   "source": [
    "yeniDataFrame[\"Yaş\"]"
   ]
  },
  {
   "cell_type": "code",
   "execution_count": 20,
   "id": "dcbdb0a7-48e2-4cb7-9a60-cf2ad79a9ab2",
   "metadata": {},
   "outputs": [
    {
     "data": {
      "text/html": [
       "<div>\n",
       "<style scoped>\n",
       "    .dataframe tbody tr th:only-of-type {\n",
       "        vertical-align: middle;\n",
       "    }\n",
       "\n",
       "    .dataframe tbody tr th {\n",
       "        vertical-align: top;\n",
       "    }\n",
       "\n",
       "    .dataframe thead th {\n",
       "        text-align: right;\n",
       "    }\n",
       "</style>\n",
       "<table border=\"1\" class=\"dataframe\">\n",
       "  <thead>\n",
       "    <tr style=\"text-align: right;\">\n",
       "      <th></th>\n",
       "      <th>Maaş</th>\n",
       "      <th>Saat</th>\n",
       "    </tr>\n",
       "  </thead>\n",
       "  <tbody>\n",
       "    <tr>\n",
       "      <th>Nurseli</th>\n",
       "      <td>0.031628</td>\n",
       "      <td>0.046912</td>\n",
       "    </tr>\n",
       "    <tr>\n",
       "      <th>Zeynep</th>\n",
       "      <td>-1.099101</td>\n",
       "      <td>0.132575</td>\n",
       "    </tr>\n",
       "    <tr>\n",
       "      <th>Mert</th>\n",
       "      <td>-1.026370</td>\n",
       "      <td>-0.579556</td>\n",
       "    </tr>\n",
       "    <tr>\n",
       "      <th>İsa</th>\n",
       "      <td>-0.540990</td>\n",
       "      <td>0.108735</td>\n",
       "    </tr>\n",
       "  </tbody>\n",
       "</table>\n",
       "</div>"
      ],
      "text/plain": [
       "             Maaş      Saat\n",
       "Nurseli  0.031628  0.046912\n",
       "Zeynep  -1.099101  0.132575\n",
       "Mert    -1.026370 -0.579556\n",
       "İsa     -0.540990  0.108735"
      ]
     },
     "execution_count": 20,
     "metadata": {},
     "output_type": "execute_result"
    }
   ],
   "source": [
    "yeniDataFrame[[\"Maaş\", \"Saat\"]]"
   ]
  },
  {
   "cell_type": "code",
   "execution_count": 21,
   "id": "cbe80511-aad7-40f4-9561-d8f1e30022c2",
   "metadata": {},
   "outputs": [
    {
     "data": {
      "text/plain": [
       "Maaş    0.031628\n",
       "Yaş    -1.753092\n",
       "Saat    0.046912\n",
       "Name: Nurseli, dtype: float64"
      ]
     },
     "execution_count": 21,
     "metadata": {},
     "output_type": "execute_result"
    }
   ],
   "source": [
    "yeniDataFrame.loc[\"Nurseli\"]"
   ]
  },
  {
   "cell_type": "markdown",
   "id": "6be95041-b3e5-4bf0-85c6-d3fb6bb5ff14",
   "metadata": {},
   "source": [
    "row'u seçmek için"
   ]
  },
  {
   "cell_type": "code",
   "execution_count": 22,
   "id": "1bc0c3c2-2dfe-4a92-beca-48941d6ece8d",
   "metadata": {},
   "outputs": [
    {
     "data": {
      "text/plain": [
       "Maaş   -1.099101\n",
       "Yaş     0.034113\n",
       "Saat    0.132575\n",
       "Name: Zeynep, dtype: float64"
      ]
     },
     "execution_count": 22,
     "metadata": {},
     "output_type": "execute_result"
    }
   ],
   "source": [
    "yeniDataFrame.iloc[1]"
   ]
  },
  {
   "cell_type": "markdown",
   "id": "289fdeb8-0a01-4bdf-9eea-3cd9e71a7443",
   "metadata": {},
   "source": [
    "row da index bazlı lokasyon"
   ]
  },
  {
   "cell_type": "code",
   "execution_count": 23,
   "id": "6a8d1778-494c-4694-ba94-32add6890fea",
   "metadata": {},
   "outputs": [
    {
     "data": {
      "text/html": [
       "<div>\n",
       "<style scoped>\n",
       "    .dataframe tbody tr th:only-of-type {\n",
       "        vertical-align: middle;\n",
       "    }\n",
       "\n",
       "    .dataframe tbody tr th {\n",
       "        vertical-align: top;\n",
       "    }\n",
       "\n",
       "    .dataframe thead th {\n",
       "        text-align: right;\n",
       "    }\n",
       "</style>\n",
       "<table border=\"1\" class=\"dataframe\">\n",
       "  <thead>\n",
       "    <tr style=\"text-align: right;\">\n",
       "      <th></th>\n",
       "      <th>Maaş</th>\n",
       "      <th>Yaş</th>\n",
       "      <th>Saat</th>\n",
       "    </tr>\n",
       "  </thead>\n",
       "  <tbody>\n",
       "    <tr>\n",
       "      <th>Nurseli</th>\n",
       "      <td>0.031628</td>\n",
       "      <td>-1.753092</td>\n",
       "      <td>0.046912</td>\n",
       "    </tr>\n",
       "    <tr>\n",
       "      <th>Zeynep</th>\n",
       "      <td>-1.099101</td>\n",
       "      <td>0.034113</td>\n",
       "      <td>0.132575</td>\n",
       "    </tr>\n",
       "    <tr>\n",
       "      <th>Mert</th>\n",
       "      <td>-1.026370</td>\n",
       "      <td>-0.369649</td>\n",
       "      <td>-0.579556</td>\n",
       "    </tr>\n",
       "    <tr>\n",
       "      <th>İsa</th>\n",
       "      <td>-0.540990</td>\n",
       "      <td>0.327127</td>\n",
       "      <td>0.108735</td>\n",
       "    </tr>\n",
       "  </tbody>\n",
       "</table>\n",
       "</div>"
      ],
      "text/plain": [
       "             Maaş       Yaş      Saat\n",
       "Nurseli  0.031628 -1.753092  0.046912\n",
       "Zeynep  -1.099101  0.034113  0.132575\n",
       "Mert    -1.026370 -0.369649 -0.579556\n",
       "İsa     -0.540990  0.327127  0.108735"
      ]
     },
     "execution_count": 23,
     "metadata": {},
     "output_type": "execute_result"
    }
   ],
   "source": [
    "yeniDataFrame"
   ]
  },
  {
   "cell_type": "code",
   "execution_count": 24,
   "id": "0da68407-18a3-4af6-9ac0-36d79d99fefa",
   "metadata": {},
   "outputs": [],
   "source": [
    "yeniDataFrame[\"Emeklilik Yaşı\"] = yeniDataFrame[\"Yaş\"] + yeniDataFrame[\"Saat\"] "
   ]
  },
  {
   "cell_type": "code",
   "execution_count": 25,
   "id": "8224c9d8-79dd-44ce-be23-f5a201980867",
   "metadata": {},
   "outputs": [
    {
     "data": {
      "text/html": [
       "<div>\n",
       "<style scoped>\n",
       "    .dataframe tbody tr th:only-of-type {\n",
       "        vertical-align: middle;\n",
       "    }\n",
       "\n",
       "    .dataframe tbody tr th {\n",
       "        vertical-align: top;\n",
       "    }\n",
       "\n",
       "    .dataframe thead th {\n",
       "        text-align: right;\n",
       "    }\n",
       "</style>\n",
       "<table border=\"1\" class=\"dataframe\">\n",
       "  <thead>\n",
       "    <tr style=\"text-align: right;\">\n",
       "      <th></th>\n",
       "      <th>Maaş</th>\n",
       "      <th>Yaş</th>\n",
       "      <th>Saat</th>\n",
       "      <th>Emeklilik Yaşı</th>\n",
       "    </tr>\n",
       "  </thead>\n",
       "  <tbody>\n",
       "    <tr>\n",
       "      <th>Nurseli</th>\n",
       "      <td>0.031628</td>\n",
       "      <td>-1.753092</td>\n",
       "      <td>0.046912</td>\n",
       "      <td>-1.706180</td>\n",
       "    </tr>\n",
       "    <tr>\n",
       "      <th>Zeynep</th>\n",
       "      <td>-1.099101</td>\n",
       "      <td>0.034113</td>\n",
       "      <td>0.132575</td>\n",
       "      <td>0.166687</td>\n",
       "    </tr>\n",
       "    <tr>\n",
       "      <th>Mert</th>\n",
       "      <td>-1.026370</td>\n",
       "      <td>-0.369649</td>\n",
       "      <td>-0.579556</td>\n",
       "      <td>-0.949204</td>\n",
       "    </tr>\n",
       "    <tr>\n",
       "      <th>İsa</th>\n",
       "      <td>-0.540990</td>\n",
       "      <td>0.327127</td>\n",
       "      <td>0.108735</td>\n",
       "      <td>0.435862</td>\n",
       "    </tr>\n",
       "  </tbody>\n",
       "</table>\n",
       "</div>"
      ],
      "text/plain": [
       "             Maaş       Yaş      Saat  Emeklilik Yaşı\n",
       "Nurseli  0.031628 -1.753092  0.046912       -1.706180\n",
       "Zeynep  -1.099101  0.034113  0.132575        0.166687\n",
       "Mert    -1.026370 -0.369649 -0.579556       -0.949204\n",
       "İsa     -0.540990  0.327127  0.108735        0.435862"
      ]
     },
     "execution_count": 25,
     "metadata": {},
     "output_type": "execute_result"
    }
   ],
   "source": [
    "yeniDataFrame"
   ]
  },
  {
   "cell_type": "code",
   "execution_count": 27,
   "id": "59e436f6-45c7-44eb-af74-cd0df47766ce",
   "metadata": {},
   "outputs": [
    {
     "data": {
      "text/html": [
       "<div>\n",
       "<style scoped>\n",
       "    .dataframe tbody tr th:only-of-type {\n",
       "        vertical-align: middle;\n",
       "    }\n",
       "\n",
       "    .dataframe tbody tr th {\n",
       "        vertical-align: top;\n",
       "    }\n",
       "\n",
       "    .dataframe thead th {\n",
       "        text-align: right;\n",
       "    }\n",
       "</style>\n",
       "<table border=\"1\" class=\"dataframe\">\n",
       "  <thead>\n",
       "    <tr style=\"text-align: right;\">\n",
       "      <th></th>\n",
       "      <th>Maaş</th>\n",
       "      <th>Yaş</th>\n",
       "      <th>Saat</th>\n",
       "    </tr>\n",
       "  </thead>\n",
       "  <tbody>\n",
       "    <tr>\n",
       "      <th>Nurseli</th>\n",
       "      <td>0.031628</td>\n",
       "      <td>-1.753092</td>\n",
       "      <td>0.046912</td>\n",
       "    </tr>\n",
       "    <tr>\n",
       "      <th>Zeynep</th>\n",
       "      <td>-1.099101</td>\n",
       "      <td>0.034113</td>\n",
       "      <td>0.132575</td>\n",
       "    </tr>\n",
       "    <tr>\n",
       "      <th>Mert</th>\n",
       "      <td>-1.026370</td>\n",
       "      <td>-0.369649</td>\n",
       "      <td>-0.579556</td>\n",
       "    </tr>\n",
       "    <tr>\n",
       "      <th>İsa</th>\n",
       "      <td>-0.540990</td>\n",
       "      <td>0.327127</td>\n",
       "      <td>0.108735</td>\n",
       "    </tr>\n",
       "  </tbody>\n",
       "</table>\n",
       "</div>"
      ],
      "text/plain": [
       "             Maaş       Yaş      Saat\n",
       "Nurseli  0.031628 -1.753092  0.046912\n",
       "Zeynep  -1.099101  0.034113  0.132575\n",
       "Mert    -1.026370 -0.369649 -0.579556\n",
       "İsa     -0.540990  0.327127  0.108735"
      ]
     },
     "execution_count": 27,
     "metadata": {},
     "output_type": "execute_result"
    }
   ],
   "source": [
    "yeniDataFrame.drop(\"Emeklilik Yaşı\", axis = 1)"
   ]
  },
  {
   "cell_type": "markdown",
   "id": "b367a721-d440-432a-aa54-37862518071b",
   "metadata": {},
   "source": [
    "axis = 1 column, axis = 0 row   default olarak axis = 0 zaten yazmaya gerek yok"
   ]
  },
  {
   "cell_type": "code",
   "execution_count": 28,
   "id": "0cd429b4-81a6-43c2-87ff-ede4d1ef8f36",
   "metadata": {},
   "outputs": [
    {
     "data": {
      "text/html": [
       "<div>\n",
       "<style scoped>\n",
       "    .dataframe tbody tr th:only-of-type {\n",
       "        vertical-align: middle;\n",
       "    }\n",
       "\n",
       "    .dataframe tbody tr th {\n",
       "        vertical-align: top;\n",
       "    }\n",
       "\n",
       "    .dataframe thead th {\n",
       "        text-align: right;\n",
       "    }\n",
       "</style>\n",
       "<table border=\"1\" class=\"dataframe\">\n",
       "  <thead>\n",
       "    <tr style=\"text-align: right;\">\n",
       "      <th></th>\n",
       "      <th>Maaş</th>\n",
       "      <th>Yaş</th>\n",
       "      <th>Saat</th>\n",
       "      <th>Emeklilik Yaşı</th>\n",
       "    </tr>\n",
       "  </thead>\n",
       "  <tbody>\n",
       "    <tr>\n",
       "      <th>Nurseli</th>\n",
       "      <td>0.031628</td>\n",
       "      <td>-1.753092</td>\n",
       "      <td>0.046912</td>\n",
       "      <td>-1.706180</td>\n",
       "    </tr>\n",
       "    <tr>\n",
       "      <th>Zeynep</th>\n",
       "      <td>-1.099101</td>\n",
       "      <td>0.034113</td>\n",
       "      <td>0.132575</td>\n",
       "      <td>0.166687</td>\n",
       "    </tr>\n",
       "    <tr>\n",
       "      <th>Mert</th>\n",
       "      <td>-1.026370</td>\n",
       "      <td>-0.369649</td>\n",
       "      <td>-0.579556</td>\n",
       "      <td>-0.949204</td>\n",
       "    </tr>\n",
       "  </tbody>\n",
       "</table>\n",
       "</div>"
      ],
      "text/plain": [
       "             Maaş       Yaş      Saat  Emeklilik Yaşı\n",
       "Nurseli  0.031628 -1.753092  0.046912       -1.706180\n",
       "Zeynep  -1.099101  0.034113  0.132575        0.166687\n",
       "Mert    -1.026370 -0.369649 -0.579556       -0.949204"
      ]
     },
     "execution_count": 28,
     "metadata": {},
     "output_type": "execute_result"
    }
   ],
   "source": [
    "yeniDataFrame.drop(\"İsa\", axis = 0)"
   ]
  },
  {
   "cell_type": "code",
   "execution_count": 29,
   "id": "166d6f0c-4363-4048-ba45-11cb72a4077c",
   "metadata": {},
   "outputs": [
    {
     "data": {
      "text/html": [
       "<div>\n",
       "<style scoped>\n",
       "    .dataframe tbody tr th:only-of-type {\n",
       "        vertical-align: middle;\n",
       "    }\n",
       "\n",
       "    .dataframe tbody tr th {\n",
       "        vertical-align: top;\n",
       "    }\n",
       "\n",
       "    .dataframe thead th {\n",
       "        text-align: right;\n",
       "    }\n",
       "</style>\n",
       "<table border=\"1\" class=\"dataframe\">\n",
       "  <thead>\n",
       "    <tr style=\"text-align: right;\">\n",
       "      <th></th>\n",
       "      <th>Maaş</th>\n",
       "      <th>Yaş</th>\n",
       "      <th>Saat</th>\n",
       "      <th>Emeklilik Yaşı</th>\n",
       "    </tr>\n",
       "  </thead>\n",
       "  <tbody>\n",
       "    <tr>\n",
       "      <th>Nurseli</th>\n",
       "      <td>0.031628</td>\n",
       "      <td>-1.753092</td>\n",
       "      <td>0.046912</td>\n",
       "      <td>-1.706180</td>\n",
       "    </tr>\n",
       "    <tr>\n",
       "      <th>Zeynep</th>\n",
       "      <td>-1.099101</td>\n",
       "      <td>0.034113</td>\n",
       "      <td>0.132575</td>\n",
       "      <td>0.166687</td>\n",
       "    </tr>\n",
       "    <tr>\n",
       "      <th>Mert</th>\n",
       "      <td>-1.026370</td>\n",
       "      <td>-0.369649</td>\n",
       "      <td>-0.579556</td>\n",
       "      <td>-0.949204</td>\n",
       "    </tr>\n",
       "    <tr>\n",
       "      <th>İsa</th>\n",
       "      <td>-0.540990</td>\n",
       "      <td>0.327127</td>\n",
       "      <td>0.108735</td>\n",
       "      <td>0.435862</td>\n",
       "    </tr>\n",
       "  </tbody>\n",
       "</table>\n",
       "</div>"
      ],
      "text/plain": [
       "             Maaş       Yaş      Saat  Emeklilik Yaşı\n",
       "Nurseli  0.031628 -1.753092  0.046912       -1.706180\n",
       "Zeynep  -1.099101  0.034113  0.132575        0.166687\n",
       "Mert    -1.026370 -0.369649 -0.579556       -0.949204\n",
       "İsa     -0.540990  0.327127  0.108735        0.435862"
      ]
     },
     "execution_count": 29,
     "metadata": {},
     "output_type": "execute_result"
    }
   ],
   "source": [
    "yeniDataFrame"
   ]
  },
  {
   "cell_type": "markdown",
   "id": "b5c72c9f-16b3-4042-ab01-44b2c864bf16",
   "metadata": {},
   "source": [
    "güncellenmedi. DateFrame de  komple değiştirmek için ayrıca belirtmek gerekir"
   ]
  },
  {
   "cell_type": "code",
   "execution_count": 30,
   "id": "8b9efa4e-caae-4750-b9f1-4423da75f18f",
   "metadata": {},
   "outputs": [],
   "source": [
    "yeniDataFrame.drop(\"Emeklilik Yaşı\", axis = 1, inplace = True)"
   ]
  },
  {
   "cell_type": "code",
   "execution_count": 31,
   "id": "63f80b8a-d687-4aa1-a36e-af3acf03904a",
   "metadata": {},
   "outputs": [
    {
     "data": {
      "text/html": [
       "<div>\n",
       "<style scoped>\n",
       "    .dataframe tbody tr th:only-of-type {\n",
       "        vertical-align: middle;\n",
       "    }\n",
       "\n",
       "    .dataframe tbody tr th {\n",
       "        vertical-align: top;\n",
       "    }\n",
       "\n",
       "    .dataframe thead th {\n",
       "        text-align: right;\n",
       "    }\n",
       "</style>\n",
       "<table border=\"1\" class=\"dataframe\">\n",
       "  <thead>\n",
       "    <tr style=\"text-align: right;\">\n",
       "      <th></th>\n",
       "      <th>Maaş</th>\n",
       "      <th>Yaş</th>\n",
       "      <th>Saat</th>\n",
       "    </tr>\n",
       "  </thead>\n",
       "  <tbody>\n",
       "    <tr>\n",
       "      <th>Nurseli</th>\n",
       "      <td>0.031628</td>\n",
       "      <td>-1.753092</td>\n",
       "      <td>0.046912</td>\n",
       "    </tr>\n",
       "    <tr>\n",
       "      <th>Zeynep</th>\n",
       "      <td>-1.099101</td>\n",
       "      <td>0.034113</td>\n",
       "      <td>0.132575</td>\n",
       "    </tr>\n",
       "    <tr>\n",
       "      <th>Mert</th>\n",
       "      <td>-1.026370</td>\n",
       "      <td>-0.369649</td>\n",
       "      <td>-0.579556</td>\n",
       "    </tr>\n",
       "    <tr>\n",
       "      <th>İsa</th>\n",
       "      <td>-0.540990</td>\n",
       "      <td>0.327127</td>\n",
       "      <td>0.108735</td>\n",
       "    </tr>\n",
       "  </tbody>\n",
       "</table>\n",
       "</div>"
      ],
      "text/plain": [
       "             Maaş       Yaş      Saat\n",
       "Nurseli  0.031628 -1.753092  0.046912\n",
       "Zeynep  -1.099101  0.034113  0.132575\n",
       "Mert    -1.026370 -0.369649 -0.579556\n",
       "İsa     -0.540990  0.327127  0.108735"
      ]
     },
     "execution_count": 31,
     "metadata": {},
     "output_type": "execute_result"
    }
   ],
   "source": [
    "yeniDataFrame"
   ]
  },
  {
   "cell_type": "code",
   "execution_count": 32,
   "id": "352d116f-7915-4033-bed4-d172ed73fe2b",
   "metadata": {},
   "outputs": [
    {
     "data": {
      "text/plain": [
       "Maaş    0.031628\n",
       "Yaş    -1.753092\n",
       "Saat    0.046912\n",
       "Name: Nurseli, dtype: float64"
      ]
     },
     "execution_count": 32,
     "metadata": {},
     "output_type": "execute_result"
    }
   ],
   "source": [
    "yeniDataFrame.loc[\"Nurseli\"]"
   ]
  },
  {
   "cell_type": "code",
   "execution_count": 33,
   "id": "d46d9d1a-c70c-4d3d-b460-95bfc7a389fc",
   "metadata": {},
   "outputs": [
    {
     "data": {
      "text/plain": [
       "-1.7530922361623729"
      ]
     },
     "execution_count": 33,
     "metadata": {},
     "output_type": "execute_result"
    }
   ],
   "source": [
    "yeniDataFrame.loc[\"Nurseli\"][\"Yaş\"]"
   ]
  },
  {
   "cell_type": "code",
   "execution_count": 34,
   "id": "b630fdf0-fb84-49e0-a065-99edf214804f",
   "metadata": {},
   "outputs": [
    {
     "data": {
      "text/html": [
       "<div>\n",
       "<style scoped>\n",
       "    .dataframe tbody tr th:only-of-type {\n",
       "        vertical-align: middle;\n",
       "    }\n",
       "\n",
       "    .dataframe tbody tr th {\n",
       "        vertical-align: top;\n",
       "    }\n",
       "\n",
       "    .dataframe thead th {\n",
       "        text-align: right;\n",
       "    }\n",
       "</style>\n",
       "<table border=\"1\" class=\"dataframe\">\n",
       "  <thead>\n",
       "    <tr style=\"text-align: right;\">\n",
       "      <th></th>\n",
       "      <th>Maaş</th>\n",
       "      <th>Yaş</th>\n",
       "      <th>Saat</th>\n",
       "    </tr>\n",
       "  </thead>\n",
       "  <tbody>\n",
       "    <tr>\n",
       "      <th>Nurseli</th>\n",
       "      <td>0.031628</td>\n",
       "      <td>-1.753092</td>\n",
       "      <td>0.046912</td>\n",
       "    </tr>\n",
       "    <tr>\n",
       "      <th>Zeynep</th>\n",
       "      <td>-1.099101</td>\n",
       "      <td>0.034113</td>\n",
       "      <td>0.132575</td>\n",
       "    </tr>\n",
       "    <tr>\n",
       "      <th>Mert</th>\n",
       "      <td>-1.026370</td>\n",
       "      <td>-0.369649</td>\n",
       "      <td>-0.579556</td>\n",
       "    </tr>\n",
       "    <tr>\n",
       "      <th>İsa</th>\n",
       "      <td>-0.540990</td>\n",
       "      <td>0.327127</td>\n",
       "      <td>0.108735</td>\n",
       "    </tr>\n",
       "  </tbody>\n",
       "</table>\n",
       "</div>"
      ],
      "text/plain": [
       "             Maaş       Yaş      Saat\n",
       "Nurseli  0.031628 -1.753092  0.046912\n",
       "Zeynep  -1.099101  0.034113  0.132575\n",
       "Mert    -1.026370 -0.369649 -0.579556\n",
       "İsa     -0.540990  0.327127  0.108735"
      ]
     },
     "execution_count": 34,
     "metadata": {},
     "output_type": "execute_result"
    }
   ],
   "source": [
    "yeniDataFrame"
   ]
  },
  {
   "cell_type": "code",
   "execution_count": 36,
   "id": "16f5164f-fc78-4938-bafc-a92e302ac494",
   "metadata": {},
   "outputs": [],
   "source": [
    "booleanFrame = yeniDataFrame < 0"
   ]
  },
  {
   "cell_type": "code",
   "execution_count": 37,
   "id": "16e98f02-98b0-4c3e-8d79-1b1d382cafce",
   "metadata": {},
   "outputs": [
    {
     "data": {
      "text/html": [
       "<div>\n",
       "<style scoped>\n",
       "    .dataframe tbody tr th:only-of-type {\n",
       "        vertical-align: middle;\n",
       "    }\n",
       "\n",
       "    .dataframe tbody tr th {\n",
       "        vertical-align: top;\n",
       "    }\n",
       "\n",
       "    .dataframe thead th {\n",
       "        text-align: right;\n",
       "    }\n",
       "</style>\n",
       "<table border=\"1\" class=\"dataframe\">\n",
       "  <thead>\n",
       "    <tr style=\"text-align: right;\">\n",
       "      <th></th>\n",
       "      <th>Maaş</th>\n",
       "      <th>Yaş</th>\n",
       "      <th>Saat</th>\n",
       "    </tr>\n",
       "  </thead>\n",
       "  <tbody>\n",
       "    <tr>\n",
       "      <th>Nurseli</th>\n",
       "      <td>NaN</td>\n",
       "      <td>-1.753092</td>\n",
       "      <td>NaN</td>\n",
       "    </tr>\n",
       "    <tr>\n",
       "      <th>Zeynep</th>\n",
       "      <td>-1.099101</td>\n",
       "      <td>NaN</td>\n",
       "      <td>NaN</td>\n",
       "    </tr>\n",
       "    <tr>\n",
       "      <th>Mert</th>\n",
       "      <td>-1.026370</td>\n",
       "      <td>-0.369649</td>\n",
       "      <td>-0.579556</td>\n",
       "    </tr>\n",
       "    <tr>\n",
       "      <th>İsa</th>\n",
       "      <td>-0.540990</td>\n",
       "      <td>NaN</td>\n",
       "      <td>NaN</td>\n",
       "    </tr>\n",
       "  </tbody>\n",
       "</table>\n",
       "</div>"
      ],
      "text/plain": [
       "             Maaş       Yaş      Saat\n",
       "Nurseli       NaN -1.753092       NaN\n",
       "Zeynep  -1.099101       NaN       NaN\n",
       "Mert    -1.026370 -0.369649 -0.579556\n",
       "İsa     -0.540990       NaN       NaN"
      ]
     },
     "execution_count": 37,
     "metadata": {},
     "output_type": "execute_result"
    }
   ],
   "source": [
    "yeniDataFrame[booleanFrame]"
   ]
  },
  {
   "cell_type": "markdown",
   "id": "0e2a3a44-d403-4370-842f-ff69f83e2752",
   "metadata": {},
   "source": [
    "sadece 0 dan küçük olanların değerlerini gösterir"
   ]
  },
  {
   "cell_type": "code",
   "execution_count": 39,
   "id": "ba018cf7-de91-4565-8312-cd09cfaec7ff",
   "metadata": {},
   "outputs": [
    {
     "data": {
      "text/html": [
       "<div>\n",
       "<style scoped>\n",
       "    .dataframe tbody tr th:only-of-type {\n",
       "        vertical-align: middle;\n",
       "    }\n",
       "\n",
       "    .dataframe tbody tr th {\n",
       "        vertical-align: top;\n",
       "    }\n",
       "\n",
       "    .dataframe thead th {\n",
       "        text-align: right;\n",
       "    }\n",
       "</style>\n",
       "<table border=\"1\" class=\"dataframe\">\n",
       "  <thead>\n",
       "    <tr style=\"text-align: right;\">\n",
       "      <th></th>\n",
       "      <th>Maaş</th>\n",
       "      <th>Yaş</th>\n",
       "      <th>Saat</th>\n",
       "    </tr>\n",
       "  </thead>\n",
       "  <tbody>\n",
       "    <tr>\n",
       "      <th>Zeynep</th>\n",
       "      <td>-1.099101</td>\n",
       "      <td>0.034113</td>\n",
       "      <td>0.132575</td>\n",
       "    </tr>\n",
       "    <tr>\n",
       "      <th>İsa</th>\n",
       "      <td>-0.540990</td>\n",
       "      <td>0.327127</td>\n",
       "      <td>0.108735</td>\n",
       "    </tr>\n",
       "  </tbody>\n",
       "</table>\n",
       "</div>"
      ],
      "text/plain": [
       "            Maaş       Yaş      Saat\n",
       "Zeynep -1.099101  0.034113  0.132575\n",
       "İsa    -0.540990  0.327127  0.108735"
      ]
     },
     "execution_count": 39,
     "metadata": {},
     "output_type": "execute_result"
    }
   ],
   "source": [
    "yeniDataFrame[yeniDataFrame[\"Yaş\"] > 0]"
   ]
  },
  {
   "cell_type": "code",
   "execution_count": 40,
   "id": "ce244031-5b86-457c-8a67-2d393aab6729",
   "metadata": {},
   "outputs": [
    {
     "data": {
      "text/html": [
       "<div>\n",
       "<style scoped>\n",
       "    .dataframe tbody tr th:only-of-type {\n",
       "        vertical-align: middle;\n",
       "    }\n",
       "\n",
       "    .dataframe tbody tr th {\n",
       "        vertical-align: top;\n",
       "    }\n",
       "\n",
       "    .dataframe thead th {\n",
       "        text-align: right;\n",
       "    }\n",
       "</style>\n",
       "<table border=\"1\" class=\"dataframe\">\n",
       "  <thead>\n",
       "    <tr style=\"text-align: right;\">\n",
       "      <th></th>\n",
       "      <th>index</th>\n",
       "      <th>Maaş</th>\n",
       "      <th>Yaş</th>\n",
       "      <th>Saat</th>\n",
       "    </tr>\n",
       "  </thead>\n",
       "  <tbody>\n",
       "    <tr>\n",
       "      <th>0</th>\n",
       "      <td>Nurseli</td>\n",
       "      <td>0.031628</td>\n",
       "      <td>-1.753092</td>\n",
       "      <td>0.046912</td>\n",
       "    </tr>\n",
       "    <tr>\n",
       "      <th>1</th>\n",
       "      <td>Zeynep</td>\n",
       "      <td>-1.099101</td>\n",
       "      <td>0.034113</td>\n",
       "      <td>0.132575</td>\n",
       "    </tr>\n",
       "    <tr>\n",
       "      <th>2</th>\n",
       "      <td>Mert</td>\n",
       "      <td>-1.026370</td>\n",
       "      <td>-0.369649</td>\n",
       "      <td>-0.579556</td>\n",
       "    </tr>\n",
       "    <tr>\n",
       "      <th>3</th>\n",
       "      <td>İsa</td>\n",
       "      <td>-0.540990</td>\n",
       "      <td>0.327127</td>\n",
       "      <td>0.108735</td>\n",
       "    </tr>\n",
       "  </tbody>\n",
       "</table>\n",
       "</div>"
      ],
      "text/plain": [
       "     index      Maaş       Yaş      Saat\n",
       "0  Nurseli  0.031628 -1.753092  0.046912\n",
       "1   Zeynep -1.099101  0.034113  0.132575\n",
       "2     Mert -1.026370 -0.369649 -0.579556\n",
       "3      İsa -0.540990  0.327127  0.108735"
      ]
     },
     "execution_count": 40,
     "metadata": {},
     "output_type": "execute_result"
    }
   ],
   "source": [
    "yeniDataFrame.reset_index()"
   ]
  },
  {
   "cell_type": "code",
   "execution_count": 43,
   "id": "f824af2a-3337-48a4-930b-bb9963228c2b",
   "metadata": {},
   "outputs": [],
   "source": [
    "newIndexList = [\"Nur\",\"Zey\",\"Mer\",\"İsa\"]"
   ]
  },
  {
   "cell_type": "code",
   "execution_count": 45,
   "id": "c67d1d99-760f-43ba-8c84-6c3c782e788a",
   "metadata": {},
   "outputs": [],
   "source": [
    "yeniDataFrame [\"New Index\"] = newIndexList"
   ]
  },
  {
   "cell_type": "code",
   "execution_count": 46,
   "id": "92d8d7b1-55d5-4971-a829-5cb2cda6c39a",
   "metadata": {},
   "outputs": [
    {
     "data": {
      "text/html": [
       "<div>\n",
       "<style scoped>\n",
       "    .dataframe tbody tr th:only-of-type {\n",
       "        vertical-align: middle;\n",
       "    }\n",
       "\n",
       "    .dataframe tbody tr th {\n",
       "        vertical-align: top;\n",
       "    }\n",
       "\n",
       "    .dataframe thead th {\n",
       "        text-align: right;\n",
       "    }\n",
       "</style>\n",
       "<table border=\"1\" class=\"dataframe\">\n",
       "  <thead>\n",
       "    <tr style=\"text-align: right;\">\n",
       "      <th></th>\n",
       "      <th>Maaş</th>\n",
       "      <th>Yaş</th>\n",
       "      <th>Saat</th>\n",
       "    </tr>\n",
       "    <tr>\n",
       "      <th>New Index</th>\n",
       "      <th></th>\n",
       "      <th></th>\n",
       "      <th></th>\n",
       "    </tr>\n",
       "  </thead>\n",
       "  <tbody>\n",
       "    <tr>\n",
       "      <th>Nur</th>\n",
       "      <td>0.031628</td>\n",
       "      <td>-1.753092</td>\n",
       "      <td>0.046912</td>\n",
       "    </tr>\n",
       "    <tr>\n",
       "      <th>Zey</th>\n",
       "      <td>-1.099101</td>\n",
       "      <td>0.034113</td>\n",
       "      <td>0.132575</td>\n",
       "    </tr>\n",
       "    <tr>\n",
       "      <th>Mer</th>\n",
       "      <td>-1.026370</td>\n",
       "      <td>-0.369649</td>\n",
       "      <td>-0.579556</td>\n",
       "    </tr>\n",
       "    <tr>\n",
       "      <th>İsa</th>\n",
       "      <td>-0.540990</td>\n",
       "      <td>0.327127</td>\n",
       "      <td>0.108735</td>\n",
       "    </tr>\n",
       "  </tbody>\n",
       "</table>\n",
       "</div>"
      ],
      "text/plain": [
       "               Maaş       Yaş      Saat\n",
       "New Index                              \n",
       "Nur        0.031628 -1.753092  0.046912\n",
       "Zey       -1.099101  0.034113  0.132575\n",
       "Mer       -1.026370 -0.369649 -0.579556\n",
       "İsa       -0.540990  0.327127  0.108735"
      ]
     },
     "execution_count": 46,
     "metadata": {},
     "output_type": "execute_result"
    }
   ],
   "source": [
    "yeniDataFrame.set_index(\"New Index\")"
   ]
  },
  {
   "cell_type": "code",
   "execution_count": 47,
   "id": "4eee88fd-87db-432d-ac6a-8ae86108bafe",
   "metadata": {},
   "outputs": [
    {
     "data": {
      "text/html": [
       "<div>\n",
       "<style scoped>\n",
       "    .dataframe tbody tr th:only-of-type {\n",
       "        vertical-align: middle;\n",
       "    }\n",
       "\n",
       "    .dataframe tbody tr th {\n",
       "        vertical-align: top;\n",
       "    }\n",
       "\n",
       "    .dataframe thead th {\n",
       "        text-align: right;\n",
       "    }\n",
       "</style>\n",
       "<table border=\"1\" class=\"dataframe\">\n",
       "  <thead>\n",
       "    <tr style=\"text-align: right;\">\n",
       "      <th></th>\n",
       "      <th>Maaş</th>\n",
       "      <th>Yaş</th>\n",
       "      <th>Saat</th>\n",
       "      <th>New Index</th>\n",
       "    </tr>\n",
       "  </thead>\n",
       "  <tbody>\n",
       "    <tr>\n",
       "      <th>Nurseli</th>\n",
       "      <td>0.031628</td>\n",
       "      <td>-1.753092</td>\n",
       "      <td>0.046912</td>\n",
       "      <td>Nur</td>\n",
       "    </tr>\n",
       "    <tr>\n",
       "      <th>Zeynep</th>\n",
       "      <td>-1.099101</td>\n",
       "      <td>0.034113</td>\n",
       "      <td>0.132575</td>\n",
       "      <td>Zey</td>\n",
       "    </tr>\n",
       "    <tr>\n",
       "      <th>Mert</th>\n",
       "      <td>-1.026370</td>\n",
       "      <td>-0.369649</td>\n",
       "      <td>-0.579556</td>\n",
       "      <td>Mer</td>\n",
       "    </tr>\n",
       "    <tr>\n",
       "      <th>İsa</th>\n",
       "      <td>-0.540990</td>\n",
       "      <td>0.327127</td>\n",
       "      <td>0.108735</td>\n",
       "      <td>İsa</td>\n",
       "    </tr>\n",
       "  </tbody>\n",
       "</table>\n",
       "</div>"
      ],
      "text/plain": [
       "             Maaş       Yaş      Saat New Index\n",
       "Nurseli  0.031628 -1.753092  0.046912       Nur\n",
       "Zeynep  -1.099101  0.034113  0.132575       Zey\n",
       "Mert    -1.026370 -0.369649 -0.579556       Mer\n",
       "İsa     -0.540990  0.327127  0.108735       İsa"
      ]
     },
     "execution_count": 47,
     "metadata": {},
     "output_type": "execute_result"
    }
   ],
   "source": [
    "yeniDataFrame"
   ]
  },
  {
   "cell_type": "code",
   "execution_count": 48,
   "id": "27d5a03f-ba4d-469e-a17a-0d2738296299",
   "metadata": {},
   "outputs": [],
   "source": [
    "yeniDataFrame.set_index(\"New Index\", inplace = True)"
   ]
  },
  {
   "cell_type": "code",
   "execution_count": 49,
   "id": "1df326d6-c1fc-4788-8c45-39f2ae6c1a17",
   "metadata": {},
   "outputs": [
    {
     "data": {
      "text/plain": [
       "Maaş    0.031628\n",
       "Yaş    -1.753092\n",
       "Saat    0.046912\n",
       "Name: Nur, dtype: float64"
      ]
     },
     "execution_count": 49,
     "metadata": {},
     "output_type": "execute_result"
    }
   ],
   "source": [
    "yeniDataFrame.loc[\"Nur\"]"
   ]
  },
  {
   "cell_type": "code",
   "execution_count": 52,
   "id": "39373895-433d-4e0f-ba66-465e184490e5",
   "metadata": {},
   "outputs": [],
   "source": [
    "ilkİndeksler = [\"Simpson\", \"Simpson\", \"Simpson\", \"South Park\", \"South Park\", \"South Park\"]"
   ]
  },
  {
   "cell_type": "code",
   "execution_count": 53,
   "id": "4f639014-a835-4378-9100-1fe9d1d35cf1",
   "metadata": {},
   "outputs": [],
   "source": [
    "icİndeksler =[\"Homer\", \"Bart\", \"Marge\", \"Cartman\", \"Kenny\", \"Kyle\"]"
   ]
  },
  {
   "cell_type": "code",
   "execution_count": 65,
   "id": "6ba04bb3-f55b-460a-a77a-e73fba000769",
   "metadata": {},
   "outputs": [],
   "source": [
    "birleşmişİndeks = list(zip(ilkİndeksler, icİndeksler))"
   ]
  },
  {
   "cell_type": "code",
   "execution_count": 66,
   "id": "7ec2f56b-2b9a-4974-beed-097b21796959",
   "metadata": {},
   "outputs": [
    {
     "data": {
      "text/plain": [
       "[('Simpson', 'Homer'),\n",
       " ('Simpson', 'Bart'),\n",
       " ('Simpson', 'Marge'),\n",
       " ('South Park', 'Cartman'),\n",
       " ('South Park', 'Kenny'),\n",
       " ('South Park', 'Kyle')]"
      ]
     },
     "execution_count": 66,
     "metadata": {},
     "output_type": "execute_result"
    }
   ],
   "source": [
    "birleşmişİndeks"
   ]
  },
  {
   "cell_type": "code",
   "execution_count": 67,
   "id": "06ff6448-75b7-47b8-b346-0d4a30998b96",
   "metadata": {},
   "outputs": [],
   "source": [
    "birleşmişİndeks = pd.MultiIndex.from_tuples(birleşmikİndeks)"
   ]
  },
  {
   "cell_type": "code",
   "execution_count": 68,
   "id": "0f7a4b57-a65b-4c40-b2da-823d83f03c1d",
   "metadata": {},
   "outputs": [
    {
     "data": {
      "text/plain": [
       "MultiIndex([(   'Simpson',   'Homer'),\n",
       "            (   'Simpson',    'Bart'),\n",
       "            (   'Simpson',   'Marge'),\n",
       "            ('South Park', 'Cartman'),\n",
       "            ('South Park',   'Kenny'),\n",
       "            ('South Park',    'Kyle')],\n",
       "           )"
      ]
     },
     "execution_count": 68,
     "metadata": {},
     "output_type": "execute_result"
    }
   ],
   "source": [
    "birleşmişİndeks"
   ]
  },
  {
   "cell_type": "code",
   "execution_count": 69,
   "id": "28963ec9-06bc-4292-a81c-c4c7b1e8fd31",
   "metadata": {},
   "outputs": [],
   "source": [
    "benimCizgiFilmListem = [[40, \"A\"], [30, \"B\"], [10, \"C\"],[9, \"D\"], [10, \"E\"], [11, \"F\"]]"
   ]
  },
  {
   "cell_type": "code",
   "execution_count": 70,
   "id": "0d0dfd4e-25e2-4c23-ac92-da36791609e8",
   "metadata": {},
   "outputs": [],
   "source": [
    "cizgiFilmNumpyDizisi = np.array(benimCizgiFilmListem)"
   ]
  },
  {
   "cell_type": "code",
   "execution_count": 71,
   "id": "e1a26cf1-878e-4f74-94b4-db146b90175c",
   "metadata": {},
   "outputs": [],
   "source": [
    "cizgiFilmDataFrame = pd.DataFrame(cizgiFilmNumpyDizisi, index = birleşmişİndeks, columns=[\"Yaş\", \"Meslek\"])"
   ]
  },
  {
   "cell_type": "code",
   "execution_count": 72,
   "id": "e97b73b3-268d-48e8-8210-ec542383a08f",
   "metadata": {},
   "outputs": [
    {
     "data": {
      "text/html": [
       "<div>\n",
       "<style scoped>\n",
       "    .dataframe tbody tr th:only-of-type {\n",
       "        vertical-align: middle;\n",
       "    }\n",
       "\n",
       "    .dataframe tbody tr th {\n",
       "        vertical-align: top;\n",
       "    }\n",
       "\n",
       "    .dataframe thead th {\n",
       "        text-align: right;\n",
       "    }\n",
       "</style>\n",
       "<table border=\"1\" class=\"dataframe\">\n",
       "  <thead>\n",
       "    <tr style=\"text-align: right;\">\n",
       "      <th></th>\n",
       "      <th></th>\n",
       "      <th>Yaş</th>\n",
       "      <th>Meslek</th>\n",
       "    </tr>\n",
       "  </thead>\n",
       "  <tbody>\n",
       "    <tr>\n",
       "      <th rowspan=\"3\" valign=\"top\">Simpson</th>\n",
       "      <th>Homer</th>\n",
       "      <td>40</td>\n",
       "      <td>A</td>\n",
       "    </tr>\n",
       "    <tr>\n",
       "      <th>Bart</th>\n",
       "      <td>30</td>\n",
       "      <td>B</td>\n",
       "    </tr>\n",
       "    <tr>\n",
       "      <th>Marge</th>\n",
       "      <td>10</td>\n",
       "      <td>C</td>\n",
       "    </tr>\n",
       "    <tr>\n",
       "      <th rowspan=\"3\" valign=\"top\">South Park</th>\n",
       "      <th>Cartman</th>\n",
       "      <td>9</td>\n",
       "      <td>D</td>\n",
       "    </tr>\n",
       "    <tr>\n",
       "      <th>Kenny</th>\n",
       "      <td>10</td>\n",
       "      <td>E</td>\n",
       "    </tr>\n",
       "    <tr>\n",
       "      <th>Kyle</th>\n",
       "      <td>11</td>\n",
       "      <td>F</td>\n",
       "    </tr>\n",
       "  </tbody>\n",
       "</table>\n",
       "</div>"
      ],
      "text/plain": [
       "                   Yaş Meslek\n",
       "Simpson    Homer    40      A\n",
       "           Bart     30      B\n",
       "           Marge    10      C\n",
       "South Park Cartman   9      D\n",
       "           Kenny    10      E\n",
       "           Kyle     11      F"
      ]
     },
     "execution_count": 72,
     "metadata": {},
     "output_type": "execute_result"
    }
   ],
   "source": [
    "cizgiFilmDataFrame"
   ]
  },
  {
   "cell_type": "code",
   "execution_count": 75,
   "id": "025d1f60-177e-425d-861e-085c4f0cd79b",
   "metadata": {},
   "outputs": [
    {
     "data": {
      "text/plain": [
       "Yaş       30\n",
       "Meslek     B\n",
       "Name: Bart, dtype: object"
      ]
     },
     "execution_count": 75,
     "metadata": {},
     "output_type": "execute_result"
    }
   ],
   "source": [
    "cizgiFilmDataFrame.loc[\"Simpson\"].loc[\"Bart\"]"
   ]
  },
  {
   "cell_type": "code",
   "execution_count": 76,
   "id": "0f53331a-6196-471a-9506-1d1d6b63e245",
   "metadata": {},
   "outputs": [],
   "source": [
    "cizgiFilmDataFrame.index.names = [\"Film Adı\", \"İsim\"]"
   ]
  },
  {
   "cell_type": "code",
   "execution_count": 77,
   "id": "ad843ba4-cc3c-4b5c-8994-11a808e64123",
   "metadata": {},
   "outputs": [
    {
     "data": {
      "text/html": [
       "<div>\n",
       "<style scoped>\n",
       "    .dataframe tbody tr th:only-of-type {\n",
       "        vertical-align: middle;\n",
       "    }\n",
       "\n",
       "    .dataframe tbody tr th {\n",
       "        vertical-align: top;\n",
       "    }\n",
       "\n",
       "    .dataframe thead th {\n",
       "        text-align: right;\n",
       "    }\n",
       "</style>\n",
       "<table border=\"1\" class=\"dataframe\">\n",
       "  <thead>\n",
       "    <tr style=\"text-align: right;\">\n",
       "      <th></th>\n",
       "      <th></th>\n",
       "      <th>Yaş</th>\n",
       "      <th>Meslek</th>\n",
       "    </tr>\n",
       "    <tr>\n",
       "      <th>Film Adı</th>\n",
       "      <th>İsim</th>\n",
       "      <th></th>\n",
       "      <th></th>\n",
       "    </tr>\n",
       "  </thead>\n",
       "  <tbody>\n",
       "    <tr>\n",
       "      <th rowspan=\"3\" valign=\"top\">Simpson</th>\n",
       "      <th>Homer</th>\n",
       "      <td>40</td>\n",
       "      <td>A</td>\n",
       "    </tr>\n",
       "    <tr>\n",
       "      <th>Bart</th>\n",
       "      <td>30</td>\n",
       "      <td>B</td>\n",
       "    </tr>\n",
       "    <tr>\n",
       "      <th>Marge</th>\n",
       "      <td>10</td>\n",
       "      <td>C</td>\n",
       "    </tr>\n",
       "    <tr>\n",
       "      <th rowspan=\"3\" valign=\"top\">South Park</th>\n",
       "      <th>Cartman</th>\n",
       "      <td>9</td>\n",
       "      <td>D</td>\n",
       "    </tr>\n",
       "    <tr>\n",
       "      <th>Kenny</th>\n",
       "      <td>10</td>\n",
       "      <td>E</td>\n",
       "    </tr>\n",
       "    <tr>\n",
       "      <th>Kyle</th>\n",
       "      <td>11</td>\n",
       "      <td>F</td>\n",
       "    </tr>\n",
       "  </tbody>\n",
       "</table>\n",
       "</div>"
      ],
      "text/plain": [
       "                   Yaş Meslek\n",
       "Film Adı   İsim              \n",
       "Simpson    Homer    40      A\n",
       "           Bart     30      B\n",
       "           Marge    10      C\n",
       "South Park Cartman   9      D\n",
       "           Kenny    10      E\n",
       "           Kyle     11      F"
      ]
     },
     "execution_count": 77,
     "metadata": {},
     "output_type": "execute_result"
    }
   ],
   "source": [
    "cizgiFilmDataFrame"
   ]
  },
  {
   "cell_type": "code",
   "execution_count": null,
   "id": "93a19ff8-d0df-4de8-af49-c71c4190761f",
   "metadata": {},
   "outputs": [],
   "source": []
  }
 ],
 "metadata": {
  "kernelspec": {
   "display_name": "Python 3 (ipykernel)",
   "language": "python",
   "name": "python3"
  },
  "language_info": {
   "codemirror_mode": {
    "name": "ipython",
    "version": 3
   },
   "file_extension": ".py",
   "mimetype": "text/x-python",
   "name": "python",
   "nbconvert_exporter": "python",
   "pygments_lexer": "ipython3",
   "version": "3.12.7"
  }
 },
 "nbformat": 4,
 "nbformat_minor": 5
}
