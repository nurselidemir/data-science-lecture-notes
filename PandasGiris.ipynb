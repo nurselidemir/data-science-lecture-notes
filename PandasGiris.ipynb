{
 "cells": [
  {
   "cell_type": "code",
   "execution_count": 1,
   "id": "6ae0ab61-76b2-4b47-8f81-8c2a05018f41",
   "metadata": {},
   "outputs": [],
   "source": [
    "import numpy as np\n",
    "import pandas as pd"
   ]
  },
  {
   "cell_type": "markdown",
   "id": "b1eec95d-9336-4a85-a161-d7fe45cd58bd",
   "metadata": {},
   "source": [
    "## series"
   ]
  },
  {
   "cell_type": "code",
   "execution_count": 3,
   "id": "c3815eed-cd99-4bd1-97b2-dc6823ba8195",
   "metadata": {},
   "outputs": [],
   "source": [
    "myDictionary = {\"Nurseli\": 22 , \"Zeynep\" :6 , \"Mert\" : 3}"
   ]
  },
  {
   "cell_type": "code",
   "execution_count": 6,
   "id": "3ccd907c-7291-4ffc-9a24-dc85e600d5be",
   "metadata": {},
   "outputs": [
    {
     "data": {
      "text/plain": [
       "Nurseli    22\n",
       "Zeynep      6\n",
       "Mert        3\n",
       "dtype: int64"
      ]
     },
     "execution_count": 6,
     "metadata": {},
     "output_type": "execute_result"
    }
   ],
   "source": [
    "pd.Series(myDictionary)"
   ]
  },
  {
   "cell_type": "code",
   "execution_count": 11,
   "id": "8db30d4a-71e2-4e6c-8eb6-3ea05bb1a790",
   "metadata": {},
   "outputs": [],
   "source": [
    "myAges = [22, 6, 3]"
   ]
  },
  {
   "cell_type": "code",
   "execution_count": 12,
   "id": "3c786dd1-2571-4cdb-abcf-da693201c146",
   "metadata": {},
   "outputs": [],
   "source": [
    "myNames = [\"Nurseli\", \"Zeynep\", \"Mert\"]"
   ]
  },
  {
   "cell_type": "code",
   "execution_count": 13,
   "id": "570c9486-c9c7-450b-bf25-837f5bb01633",
   "metadata": {},
   "outputs": [
    {
     "data": {
      "text/plain": [
       "Nurseli    22\n",
       "Zeynep      6\n",
       "Mert        3\n",
       "dtype: int64"
      ]
     },
     "execution_count": 13,
     "metadata": {},
     "output_type": "execute_result"
    }
   ],
   "source": [
    "pd.Series(myAges, myNames)"
   ]
  },
  {
   "cell_type": "code",
   "execution_count": 14,
   "id": "263917f7-07fb-4bbf-a986-549d98c9d145",
   "metadata": {},
   "outputs": [
    {
     "data": {
      "text/plain": [
       "Nurseli    22\n",
       "Zeynep      6\n",
       "Mert        3\n",
       "dtype: int64"
      ]
     },
     "execution_count": 14,
     "metadata": {},
     "output_type": "execute_result"
    }
   ],
   "source": [
    "pd.Series(data = myAges, index = myNames)"
   ]
  },
  {
   "cell_type": "code",
   "execution_count": 17,
   "id": "fc5a9c70-274e-45ed-9764-827379b7b0bb",
   "metadata": {},
   "outputs": [],
   "source": [
    "numpyArray = np.array([22, 6, 3])"
   ]
  },
  {
   "cell_type": "code",
   "execution_count": 18,
   "id": "84ee5498-8c33-4cf8-a765-477ba5b47a30",
   "metadata": {},
   "outputs": [
    {
     "data": {
      "text/plain": [
       "Nurseli    22\n",
       "Zeynep      6\n",
       "Mert        3\n",
       "dtype: int64"
      ]
     },
     "execution_count": 18,
     "metadata": {},
     "output_type": "execute_result"
    }
   ],
   "source": [
    "pd.Series(numpyArray, myNames)"
   ]
  },
  {
   "cell_type": "code",
   "execution_count": 20,
   "id": "62e791dc-33e8-4b00-bce1-69d6391ea0e4",
   "metadata": {},
   "outputs": [
    {
     "data": {
      "text/plain": [
       "1    Nurseli\n",
       "2     Zeynep\n",
       "3       Mert\n",
       "dtype: object"
      ]
     },
     "execution_count": 20,
     "metadata": {},
     "output_type": "execute_result"
    }
   ],
   "source": [
    "pd.Series([\"Nurseli\", \"Zeynep\", \"Mert\"],[1, 2, 3])"
   ]
  },
  {
   "cell_type": "code",
   "execution_count": 21,
   "id": "8f2ded1c-6a94-47d2-ab13-91a5a044d10b",
   "metadata": {},
   "outputs": [],
   "source": [
    "yarismaSonucu1 = pd.Series([40, 20, 30],[\"Nurseli\", \"Zeynep\", \"Mert\"])"
   ]
  },
  {
   "cell_type": "code",
   "execution_count": 22,
   "id": "fa956871-8f1e-4b31-8593-3c916fb278a2",
   "metadata": {},
   "outputs": [
    {
     "data": {
      "text/plain": [
       "Nurseli    40\n",
       "Zeynep     20\n",
       "Mert       30\n",
       "dtype: int64"
      ]
     },
     "execution_count": 22,
     "metadata": {},
     "output_type": "execute_result"
    }
   ],
   "source": [
    "yarismaSonucu1"
   ]
  },
  {
   "cell_type": "code",
   "execution_count": 23,
   "id": "da4f7722-6d36-42aa-98f4-2765a45bbc11",
   "metadata": {},
   "outputs": [],
   "source": [
    "yarismaSonucu2 = pd.Series([20, 10, 60],[\"Nurseli\", \"Zeynep\", \"Mert\"])"
   ]
  },
  {
   "cell_type": "code",
   "execution_count": 24,
   "id": "b45be73c-522e-46af-9b2a-9bf76dbf4d56",
   "metadata": {},
   "outputs": [
    {
     "data": {
      "text/plain": [
       "Nurseli    20\n",
       "Zeynep     10\n",
       "Mert       60\n",
       "dtype: int64"
      ]
     },
     "execution_count": 24,
     "metadata": {},
     "output_type": "execute_result"
    }
   ],
   "source": [
    "yarismaSonucu2"
   ]
  },
  {
   "cell_type": "code",
   "execution_count": 25,
   "id": "6b21cf8a-9cfb-4a4d-aa8e-200f23837127",
   "metadata": {},
   "outputs": [
    {
     "data": {
      "text/plain": [
       "20"
      ]
     },
     "execution_count": 25,
     "metadata": {},
     "output_type": "execute_result"
    }
   ],
   "source": [
    "yarismaSonucu2[\"Nurseli\"]"
   ]
  },
  {
   "cell_type": "code",
   "execution_count": 26,
   "id": "d6e67cc6-0e7b-42c4-a709-71041c186aeb",
   "metadata": {},
   "outputs": [],
   "source": [
    "sonSonuc = yarismaSonucu1 + yarismaSonucu2"
   ]
  },
  {
   "cell_type": "code",
   "execution_count": 27,
   "id": "894d99b4-3046-4280-9ce9-d0acb086577c",
   "metadata": {},
   "outputs": [
    {
     "data": {
      "text/plain": [
       "Nurseli    60\n",
       "Zeynep     30\n",
       "Mert       90\n",
       "dtype: int64"
      ]
     },
     "execution_count": 27,
     "metadata": {},
     "output_type": "execute_result"
    }
   ],
   "source": [
    "sonSonuc"
   ]
  },
  {
   "cell_type": "code",
   "execution_count": 28,
   "id": "bfcf1f3b-b95c-4913-95ed-f86fb2485ff7",
   "metadata": {},
   "outputs": [],
   "source": [
    "farklıSeries = pd.Series([20, 30, 40, 50],[\"a\",\"b\",\"c\",\"d\"])"
   ]
  },
  {
   "cell_type": "code",
   "execution_count": 29,
   "id": "32b055d9-55a6-4a25-9f54-b3eac7ff0ed7",
   "metadata": {},
   "outputs": [],
   "source": [
    "farklıSeries2 = pd.Series([10, 5, 3, 1],[\"a\",\"c\",\"f\",\"g\"])"
   ]
  },
  {
   "cell_type": "code",
   "execution_count": 30,
   "id": "d6688180-206e-4372-8567-f1a5c19efcc8",
   "metadata": {},
   "outputs": [
    {
     "data": {
      "text/plain": [
       "a    20\n",
       "b    30\n",
       "c    40\n",
       "d    50\n",
       "dtype: int64"
      ]
     },
     "execution_count": 30,
     "metadata": {},
     "output_type": "execute_result"
    }
   ],
   "source": [
    "farklıSeries"
   ]
  },
  {
   "cell_type": "code",
   "execution_count": 31,
   "id": "f1f8300c-7077-472f-aa1f-db33dcbf0134",
   "metadata": {},
   "outputs": [
    {
     "data": {
      "text/plain": [
       "a    10\n",
       "c     5\n",
       "f     3\n",
       "g     1\n",
       "dtype: int64"
      ]
     },
     "execution_count": 31,
     "metadata": {},
     "output_type": "execute_result"
    }
   ],
   "source": [
    "farklıSeries2"
   ]
  },
  {
   "cell_type": "code",
   "execution_count": 32,
   "id": "112a2147-c126-4a0e-9c05-9e0029cc7f87",
   "metadata": {},
   "outputs": [
    {
     "data": {
      "text/plain": [
       "a    30.0\n",
       "b     NaN\n",
       "c    45.0\n",
       "d     NaN\n",
       "f     NaN\n",
       "g     NaN\n",
       "dtype: float64"
      ]
     },
     "execution_count": 32,
     "metadata": {},
     "output_type": "execute_result"
    }
   ],
   "source": [
    "farklıSeries + farklıSeries2"
   ]
  },
  {
   "cell_type": "code",
   "execution_count": null,
   "id": "7f1c30fb-b95b-4961-8ef3-7cc46b31a67d",
   "metadata": {},
   "outputs": [],
   "source": []
  }
 ],
 "metadata": {
  "kernelspec": {
   "display_name": "Python 3 (ipykernel)",
   "language": "python",
   "name": "python3"
  },
  "language_info": {
   "codemirror_mode": {
    "name": "ipython",
    "version": 3
   },
   "file_extension": ".py",
   "mimetype": "text/x-python",
   "name": "python",
   "nbconvert_exporter": "python",
   "pygments_lexer": "ipython3",
   "version": "3.12.7"
  }
 },
 "nbformat": 4,
 "nbformat_minor": 5
}
