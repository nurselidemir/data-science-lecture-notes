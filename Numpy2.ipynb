{
 "cells": [
  {
   "cell_type": "code",
   "execution_count": 43,
   "id": "d5ca1169-769f-41f9-978c-aa5434e3c461",
   "metadata": {},
   "outputs": [],
   "source": [
    "import numpy as np"
   ]
  },
  {
   "cell_type": "code",
   "execution_count": 44,
   "id": "edbb4f18-7a3c-4313-974d-1cce92e06df4",
   "metadata": {},
   "outputs": [],
   "source": [
    "myArray = np.arange(0,15)"
   ]
  },
  {
   "cell_type": "code",
   "execution_count": 45,
   "id": "3288bb00-b2b8-4149-b58b-5914380dd96f",
   "metadata": {},
   "outputs": [
    {
     "data": {
      "text/plain": [
       "array([ 0,  1,  2,  3,  4,  5,  6,  7,  8,  9, 10, 11, 12, 13, 14])"
      ]
     },
     "execution_count": 45,
     "metadata": {},
     "output_type": "execute_result"
    }
   ],
   "source": [
    "myArray"
   ]
  },
  {
   "cell_type": "code",
   "execution_count": 46,
   "id": "6705a2a9-07ec-4e25-b5c7-494325d8fbb3",
   "metadata": {},
   "outputs": [
    {
     "data": {
      "text/plain": [
       "5"
      ]
     },
     "execution_count": 46,
     "metadata": {},
     "output_type": "execute_result"
    }
   ],
   "source": [
    "myArray[5]\n"
   ]
  },
  {
   "cell_type": "code",
   "execution_count": 47,
   "id": "0542e5b7-67e6-4736-98c9-62ddbce1f3d3",
   "metadata": {},
   "outputs": [
    {
     "data": {
      "text/plain": [
       "array([3, 4, 5, 6, 7])"
      ]
     },
     "execution_count": 47,
     "metadata": {},
     "output_type": "execute_result"
    }
   ],
   "source": [
    "myArray[3:8]"
   ]
  },
  {
   "cell_type": "markdown",
   "id": "4d47b916-6a42-485c-a019-033a268292e5",
   "metadata": {},
   "source": [
    "stop index dahil değil"
   ]
  },
  {
   "cell_type": "code",
   "execution_count": 48,
   "id": "a2ac86db-e206-4d20-95d5-2161818c4783",
   "metadata": {},
   "outputs": [],
   "source": [
    "myArray[3:8] = -5"
   ]
  },
  {
   "cell_type": "code",
   "execution_count": 49,
   "id": "f553f73a-bf1e-46f0-bf3d-efa3cf8bff25",
   "metadata": {},
   "outputs": [
    {
     "data": {
      "text/plain": [
       "array([ 0,  1,  2, -5, -5, -5, -5, -5,  8,  9, 10, 11, 12, 13, 14])"
      ]
     },
     "execution_count": 49,
     "metadata": {},
     "output_type": "execute_result"
    }
   ],
   "source": [
    "myArray"
   ]
  },
  {
   "cell_type": "code",
   "execution_count": 50,
   "id": "034db0c4-c6bb-4868-97a8-14a98293f889",
   "metadata": {},
   "outputs": [],
   "source": [
    "array2 = np.arange(0,24)"
   ]
  },
  {
   "cell_type": "code",
   "execution_count": 51,
   "id": "39f98157-9c07-4ff3-97a2-30889897bbc8",
   "metadata": {},
   "outputs": [
    {
     "data": {
      "text/plain": [
       "array([ 0,  1,  2,  3,  4,  5,  6,  7,  8,  9, 10, 11, 12, 13, 14, 15, 16,\n",
       "       17, 18, 19, 20, 21, 22, 23])"
      ]
     },
     "execution_count": 51,
     "metadata": {},
     "output_type": "execute_result"
    }
   ],
   "source": [
    "array2"
   ]
  },
  {
   "cell_type": "code",
   "execution_count": 52,
   "id": "cfd352cd-59fd-4cb3-b812-89221c0f54f0",
   "metadata": {},
   "outputs": [],
   "source": [
    "myArray = array2[4:9]"
   ]
  },
  {
   "cell_type": "code",
   "execution_count": 53,
   "id": "ca40e669-6795-44fd-a0d3-4b85cb5401ae",
   "metadata": {},
   "outputs": [],
   "source": [
    "myArray[:] = 700"
   ]
  },
  {
   "cell_type": "code",
   "execution_count": 54,
   "id": "2639809e-05da-4b2e-af3e-d3dd29b0ca84",
   "metadata": {},
   "outputs": [
    {
     "data": {
      "text/plain": [
       "array([700, 700, 700, 700, 700])"
      ]
     },
     "execution_count": 54,
     "metadata": {},
     "output_type": "execute_result"
    }
   ],
   "source": [
    "myArray"
   ]
  },
  {
   "cell_type": "code",
   "execution_count": 55,
   "id": "a428668c-fd81-4b60-aa36-6d67bb8e6765",
   "metadata": {},
   "outputs": [
    {
     "data": {
      "text/plain": [
       "array([  0,   1,   2,   3, 700, 700, 700, 700, 700,   9,  10,  11,  12,\n",
       "        13,  14,  15,  16,  17,  18,  19,  20,  21,  22,  23])"
      ]
     },
     "execution_count": 55,
     "metadata": {},
     "output_type": "execute_result"
    }
   ],
   "source": [
    "array2"
   ]
  },
  {
   "cell_type": "markdown",
   "id": "1d4f8b77-c3c5-4ae1-bf1b-8762b8d59a1e",
   "metadata": {},
   "source": [
    "numpy dizilerinde diziler birbirini etkiler"
   ]
  },
  {
   "cell_type": "code",
   "execution_count": 56,
   "id": "4eceb8b9-cd4f-4a6c-9fa0-eb1673f1ee03",
   "metadata": {},
   "outputs": [],
   "source": [
    "ornekDizi = np.arange(0,24)"
   ]
  },
  {
   "cell_type": "code",
   "execution_count": 60,
   "id": "d2066cdb-ab04-404c-9166-dd7b39306b6e",
   "metadata": {},
   "outputs": [],
   "source": [
    "ornekDiziKopyasi = ornekDizi.copy()"
   ]
  },
  {
   "cell_type": "code",
   "execution_count": 61,
   "id": "42560e6d-0ab8-4565-b6e3-7dd83b69d8f4",
   "metadata": {},
   "outputs": [
    {
     "data": {
      "text/plain": [
       "array([ 0,  1,  2,  3,  4,  5,  6,  7,  8,  9, 10, 11, 12, 13, 14, 15, 16,\n",
       "       17, 18, 19, 20, 21, 22, 23])"
      ]
     },
     "execution_count": 61,
     "metadata": {},
     "output_type": "execute_result"
    }
   ],
   "source": [
    "ornekDizi"
   ]
  },
  {
   "cell_type": "code",
   "execution_count": 62,
   "id": "563e4109-9ceb-4176-9109-f93522326f78",
   "metadata": {},
   "outputs": [],
   "source": [
    "ornekDiziKopyaSlicing = ornekDiziKopyasi[3:6]"
   ]
  },
  {
   "cell_type": "code",
   "execution_count": 63,
   "id": "76f8e3b9-3801-493a-81bc-69db47cc0b99",
   "metadata": {},
   "outputs": [],
   "source": [
    "ornekDiziKopyaSlicing[:] = 800"
   ]
  },
  {
   "cell_type": "code",
   "execution_count": 64,
   "id": "7b6f7de9-2e31-45e8-ba15-e7020cc5e942",
   "metadata": {},
   "outputs": [
    {
     "data": {
      "text/plain": [
       "array([800, 800, 800])"
      ]
     },
     "execution_count": 64,
     "metadata": {},
     "output_type": "execute_result"
    }
   ],
   "source": [
    "ornekDiziKopyaSlicing"
   ]
  },
  {
   "cell_type": "code",
   "execution_count": 65,
   "id": "01fb6043-e66a-4511-8b17-fa42c7e7cc77",
   "metadata": {},
   "outputs": [
    {
     "data": {
      "text/plain": [
       "array([  0,   1,   2, 800, 800, 800,   6,   7,   8,   9,  10,  11,  12,\n",
       "        13,  14,  15,  16,  17,  18,  19,  20,  21,  22,  23])"
      ]
     },
     "execution_count": 65,
     "metadata": {},
     "output_type": "execute_result"
    }
   ],
   "source": [
    "ornekDiziKopyasi"
   ]
  },
  {
   "cell_type": "code",
   "execution_count": 66,
   "id": "c51fab06-6214-47d1-a0c4-00b798cfa799",
   "metadata": {},
   "outputs": [
    {
     "data": {
      "text/plain": [
       "array([ 0,  1,  2,  3,  4,  5,  6,  7,  8,  9, 10, 11, 12, 13, 14, 15, 16,\n",
       "       17, 18, 19, 20, 21, 22, 23])"
      ]
     },
     "execution_count": 66,
     "metadata": {},
     "output_type": "execute_result"
    }
   ],
   "source": [
    "ornekDizi"
   ]
  },
  {
   "cell_type": "markdown",
   "id": "d699651f-63e8-4ecd-9508-54ae5dfdd95f",
   "metadata": {},
   "source": [
    "örnek dizi etkilenmedi. orijinal dizi değişmedi."
   ]
  },
  {
   "cell_type": "markdown",
   "id": "84686f87-b627-4962-9df4-ffad070933c8",
   "metadata": {},
   "source": [
    "## matrix"
   ]
  },
  {
   "cell_type": "code",
   "execution_count": 75,
   "id": "fd4006c0-8bf9-4a84-983b-5b3312afd84c",
   "metadata": {},
   "outputs": [],
   "source": [
    "myList = [[10, 20, 30],[20, 30, 40],[70, 50, 60]]"
   ]
  },
  {
   "cell_type": "code",
   "execution_count": 76,
   "id": "164c6794-d696-4717-9c43-b7d45bacfca3",
   "metadata": {},
   "outputs": [],
   "source": [
    "myMatrixArray = np.array(myList)"
   ]
  },
  {
   "cell_type": "code",
   "execution_count": 77,
   "id": "ad56fdac-3f93-4284-bccc-9303ea1eecb7",
   "metadata": {},
   "outputs": [
    {
     "data": {
      "text/plain": [
       "array([[10, 20, 30],\n",
       "       [20, 30, 40],\n",
       "       [70, 50, 60]])"
      ]
     },
     "execution_count": 77,
     "metadata": {},
     "output_type": "execute_result"
    }
   ],
   "source": [
    "myMatrixArray"
   ]
  },
  {
   "cell_type": "code",
   "execution_count": 78,
   "id": "73deb378-4e3b-4e9f-b2c0-22fad478b1d9",
   "metadata": {},
   "outputs": [
    {
     "data": {
      "text/plain": [
       "array([10, 20, 30])"
      ]
     },
     "execution_count": 78,
     "metadata": {},
     "output_type": "execute_result"
    }
   ],
   "source": [
    "myMatrixArray[0]"
   ]
  },
  {
   "cell_type": "code",
   "execution_count": 79,
   "id": "07b80bb0-b87c-4687-93c7-127d5e2b178f",
   "metadata": {},
   "outputs": [
    {
     "data": {
      "text/plain": [
       "40"
      ]
     },
     "execution_count": 79,
     "metadata": {},
     "output_type": "execute_result"
    }
   ],
   "source": [
    "myMatrixArray[1][2]"
   ]
  },
  {
   "cell_type": "code",
   "execution_count": 80,
   "id": "a188113a-5a52-4d49-9d3c-3c6e7d88094b",
   "metadata": {},
   "outputs": [
    {
     "data": {
      "text/plain": [
       "40"
      ]
     },
     "execution_count": 80,
     "metadata": {},
     "output_type": "execute_result"
    }
   ],
   "source": [
    "myMatrixArray[1,2]"
   ]
  },
  {
   "cell_type": "code",
   "execution_count": 81,
   "id": "76dec583-eef0-4e56-b09b-201fdb2801c4",
   "metadata": {},
   "outputs": [
    {
     "data": {
      "text/plain": [
       "array([40, 60])"
      ]
     },
     "execution_count": 81,
     "metadata": {},
     "output_type": "execute_result"
    }
   ],
   "source": [
    "myMatrixArray[1:,2]"
   ]
  },
  {
   "cell_type": "code",
   "execution_count": 84,
   "id": "58af63ff-999b-4c12-80b5-a0f751cbe947",
   "metadata": {},
   "outputs": [],
   "source": [
    "newList = [[0,1,2,3,4],[5,6,7,8,9],[10,11,12,13,14],[15,16,17,18,19],[20,21,22,23,24]]"
   ]
  },
  {
   "cell_type": "code",
   "execution_count": 85,
   "id": "a284959f-a117-427d-bcef-8cd18bd79bd9",
   "metadata": {},
   "outputs": [],
   "source": [
    "newMatrix = np.array(newList)"
   ]
  },
  {
   "cell_type": "code",
   "execution_count": 86,
   "id": "f5ed31df-ad5d-4466-91a6-fa80c16b1801",
   "metadata": {},
   "outputs": [
    {
     "data": {
      "text/plain": [
       "array([[ 0,  1,  2,  3,  4],\n",
       "       [ 5,  6,  7,  8,  9],\n",
       "       [10, 11, 12, 13, 14],\n",
       "       [15, 16, 17, 18, 19],\n",
       "       [20, 21, 22, 23, 24]])"
      ]
     },
     "execution_count": 86,
     "metadata": {},
     "output_type": "execute_result"
    }
   ],
   "source": [
    "newMatrix"
   ]
  },
  {
   "cell_type": "code",
   "execution_count": 88,
   "id": "5b909ea2-eb81-4103-848c-9e7041438de5",
   "metadata": {},
   "outputs": [
    {
     "data": {
      "text/plain": [
       "array([[ 0,  1,  2,  3,  4],\n",
       "       [10, 11, 12, 13, 14],\n",
       "       [20, 21, 22, 23, 24]])"
      ]
     },
     "execution_count": 88,
     "metadata": {},
     "output_type": "execute_result"
    }
   ],
   "source": [
    "newMatrix[[0,2,4]]"
   ]
  },
  {
   "cell_type": "markdown",
   "id": "ba8db3cc-42ef-4594-946f-7c4bf29644bb",
   "metadata": {},
   "source": [
    "## operations"
   ]
  },
  {
   "cell_type": "code",
   "execution_count": 89,
   "id": "317df3e5-e69a-4282-b863-ea540c66b2d6",
   "metadata": {},
   "outputs": [],
   "source": [
    "yeniBirDizi = np.random.randint(1, 100, 20)"
   ]
  },
  {
   "cell_type": "code",
   "execution_count": 90,
   "id": "eab64692-1f81-460d-8456-f0c194e9dc3e",
   "metadata": {},
   "outputs": [
    {
     "data": {
      "text/plain": [
       "array([54, 13, 93,  9, 26, 58, 96, 54,  1, 78, 95, 92, 88, 66, 77, 44, 62,\n",
       "       15, 79, 94])"
      ]
     },
     "execution_count": 90,
     "metadata": {},
     "output_type": "execute_result"
    }
   ],
   "source": [
    "yeniBirDizi"
   ]
  },
  {
   "cell_type": "code",
   "execution_count": 94,
   "id": "af0aec1b-defa-42c5-a64c-a8239bb74108",
   "metadata": {},
   "outputs": [],
   "source": [
    "sonucDizisi = yeniBirDizi > 40"
   ]
  },
  {
   "cell_type": "code",
   "execution_count": 95,
   "id": "af5b58e3-673e-4ece-b68b-635ffcddef12",
   "metadata": {},
   "outputs": [
    {
     "data": {
      "text/plain": [
       "array([54, 93, 58, 96, 54, 78, 95, 92, 88, 66, 77, 44, 62, 79, 94])"
      ]
     },
     "execution_count": 95,
     "metadata": {},
     "output_type": "execute_result"
    }
   ],
   "source": [
    "yeniBirDizi[sonucDizisi]"
   ]
  },
  {
   "cell_type": "code",
   "execution_count": 97,
   "id": "798b0036-a1d3-4fab-b427-b3ef4fe5b3ac",
   "metadata": {},
   "outputs": [
    {
     "data": {
      "text/plain": [
       "array([54, 93, 26, 58, 96, 54, 78, 95, 92, 88, 66, 77, 44, 62, 79, 94])"
      ]
     },
     "execution_count": 97,
     "metadata": {},
     "output_type": "execute_result"
    }
   ],
   "source": [
    "yeniBirDizi[yeniBirDizi > 24]"
   ]
  },
  {
   "cell_type": "code",
   "execution_count": 98,
   "id": "a539c785-1e6f-43f5-b742-20207e54d62f",
   "metadata": {},
   "outputs": [],
   "source": [
    "sonDizi = np.arange(0, 24)"
   ]
  },
  {
   "cell_type": "code",
   "execution_count": 99,
   "id": "cc97949e-a273-49e4-95fa-771164760692",
   "metadata": {},
   "outputs": [
    {
     "data": {
      "text/plain": [
       "array([ 0,  1,  2,  3,  4,  5,  6,  7,  8,  9, 10, 11, 12, 13, 14, 15, 16,\n",
       "       17, 18, 19, 20, 21, 22, 23])"
      ]
     },
     "execution_count": 99,
     "metadata": {},
     "output_type": "execute_result"
    }
   ],
   "source": [
    "sonDizi"
   ]
  },
  {
   "cell_type": "code",
   "execution_count": 100,
   "id": "56347db9-bf9f-4949-9cb8-d5590186613a",
   "metadata": {},
   "outputs": [
    {
     "data": {
      "text/plain": [
       "array([ 0,  2,  4,  6,  8, 10, 12, 14, 16, 18, 20, 22, 24, 26, 28, 30, 32,\n",
       "       34, 36, 38, 40, 42, 44, 46])"
      ]
     },
     "execution_count": 100,
     "metadata": {},
     "output_type": "execute_result"
    }
   ],
   "source": [
    "sonDizi + sonDizi"
   ]
  },
  {
   "cell_type": "code",
   "execution_count": 101,
   "id": "039e6d55-5c1a-4c3e-a81f-9cfd28c60da1",
   "metadata": {},
   "outputs": [
    {
     "data": {
      "text/plain": [
       "array([  0,   1,   4,   9,  16,  25,  36,  49,  64,  81, 100, 121, 144,\n",
       "       169, 196, 225, 256, 289, 324, 361, 400, 441, 484, 529])"
      ]
     },
     "execution_count": 101,
     "metadata": {},
     "output_type": "execute_result"
    }
   ],
   "source": [
    "sonDizi * sonDizi"
   ]
  },
  {
   "cell_type": "code",
   "execution_count": 103,
   "id": "e7e80160-beb0-4832-b7dd-e3dda03f11d2",
   "metadata": {},
   "outputs": [
    {
     "data": {
      "text/plain": [
       "array([0, 0, 0, 0, 0, 0, 0, 0, 0, 0, 0, 0, 0, 0, 0, 0, 0, 0, 0, 0, 0, 0,\n",
       "       0, 0])"
      ]
     },
     "execution_count": 103,
     "metadata": {},
     "output_type": "execute_result"
    }
   ],
   "source": [
    "sonDizi - sonDizi"
   ]
  },
  {
   "cell_type": "markdown",
   "id": "1d46f636-6edb-489d-a9e5-1873e1cde7dc",
   "metadata": {},
   "source": [
    "bölümde 0. index 0/0 dan nan olur. Devamını yapar ancak hata da verir."
   ]
  },
  {
   "cell_type": "code",
   "execution_count": 104,
   "id": "92cfb8d1-657d-46bd-aace-07a27cbb45e5",
   "metadata": {},
   "outputs": [
    {
     "data": {
      "text/plain": [
       "array([0.        , 1.        , 1.41421356, 1.73205081, 2.        ,\n",
       "       2.23606798, 2.44948974, 2.64575131, 2.82842712, 3.        ,\n",
       "       3.16227766, 3.31662479, 3.46410162, 3.60555128, 3.74165739,\n",
       "       3.87298335, 4.        , 4.12310563, 4.24264069, 4.35889894,\n",
       "       4.47213595, 4.58257569, 4.69041576, 4.79583152])"
      ]
     },
     "execution_count": 104,
     "metadata": {},
     "output_type": "execute_result"
    }
   ],
   "source": [
    "np.sqrt(sonDizi)"
   ]
  },
  {
   "cell_type": "code",
   "execution_count": 105,
   "id": "c41f0add-9525-4c69-a340-b49ace1dd9ef",
   "metadata": {},
   "outputs": [
    {
     "data": {
      "text/plain": [
       "23"
      ]
     },
     "execution_count": 105,
     "metadata": {},
     "output_type": "execute_result"
    }
   ],
   "source": [
    "np.max(sonDizi)"
   ]
  },
  {
   "cell_type": "code",
   "execution_count": null,
   "id": "57edbacc-2f1f-4bc5-87bd-0231671a2901",
   "metadata": {},
   "outputs": [],
   "source": []
  }
 ],
 "metadata": {
  "kernelspec": {
   "display_name": "Python 3 (ipykernel)",
   "language": "python",
   "name": "python3"
  },
  "language_info": {
   "codemirror_mode": {
    "name": "ipython",
    "version": 3
   },
   "file_extension": ".py",
   "mimetype": "text/x-python",
   "name": "python",
   "nbconvert_exporter": "python",
   "pygments_lexer": "ipython3",
   "version": "3.12.7"
  }
 },
 "nbformat": 4,
 "nbformat_minor": 5
}
